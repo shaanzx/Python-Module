{
 "cells": [
  {
   "cell_type": "code",
   "execution_count": 4,
   "id": "9f2d7bf4",
   "metadata": {},
   "outputs": [
    {
     "name": "stdout",
     "output_type": "stream",
     "text": [
      "    name  age\n",
      "0  Kamal   25\n",
      "1  Nimal   26\n",
      "2   Amal   27\n",
      "<class 'pandas.core.frame.DataFrame'>\n"
     ]
    }
   ],
   "source": [
    "import pandas as pd\n",
    "\n",
    "data = {\n",
    "    \"name\" : [\"Kamal\", \"Nimal\", \"Amal\"],\n",
    "    \"age\" : [25, 26, 27]\n",
    "}\n",
    "\n",
    "df= pd.DataFrame(data)\n",
    "print(df)\n",
    "print(type(df))"
   ]
  },
  {
   "cell_type": "code",
   "execution_count": 8,
   "id": "9c4eed51",
   "metadata": {},
   "outputs": [
    {
     "name": "stdout",
     "output_type": "stream",
     "text": [
      "Kamal\n"
     ]
    }
   ],
   "source": [
    "data = {\n",
    "    \"name\" : [\"Kamal\", \"Nimal\", \"Amal\"],\n",
    "    \"age\" : [25, 26, 27]\n",
    "}\n",
    "\n",
    "print(df.loc[0, 'name'])"
   ]
  },
  {
   "cell_type": "code",
   "execution_count": 12,
   "id": "ba16bb54",
   "metadata": {},
   "outputs": [
    {
     "name": "stdout",
     "output_type": "stream",
     "text": [
      "    name  age\n",
      "0  Kamal   25\n",
      "1  Nimal   26\n",
      "2   Amal   27\n",
      "\n",
      "Output is: 27\n"
     ]
    }
   ],
   "source": [
    "data = {\n",
    "    \"name\" : [\"Kamal\", \"Nimal\", \"Amal\"],\n",
    "    \"age\" : [25, 26, 27]\n",
    "}\n",
    "\n",
    "df= pd.DataFrame(data)\n",
    "print(df)\n",
    "print(f\"\\nOutput is: {df.iloc[2,1]}\")"
   ]
  },
  {
   "cell_type": "code",
   "execution_count": 14,
   "id": "664660b4",
   "metadata": {},
   "outputs": [
    {
     "name": "stdout",
     "output_type": "stream",
     "text": [
      "    name  age\n",
      "0  Kamal   25\n",
      "1  Nimal   26\n",
      "2   Amal   27\n",
      "\n",
      "Output is: \n",
      "name    Amal\n",
      "age       27\n",
      "Name: 2, dtype: object\n"
     ]
    }
   ],
   "source": [
    "data = {\n",
    "    \"name\" : [\"Kamal\", \"Nimal\", \"Amal\"],\n",
    "    \"age\" : [25, 26, 27]\n",
    "}\n",
    "\n",
    "df= pd.DataFrame(data)\n",
    "print(df)\n",
    "print(f\"\\nOutput is: \\n{df.loc[2]}\")"
   ]
  },
  {
   "cell_type": "code",
   "execution_count": 15,
   "id": "cb2710af",
   "metadata": {},
   "outputs": [
    {
     "name": "stdout",
     "output_type": "stream",
     "text": [
      "    name  age\n",
      "0  Kamal   25\n",
      "1  Nimal   26\n",
      "2   Amal   27\n",
      "\n",
      "Output is: \n",
      "name    Amal\n",
      "age       27\n",
      "Name: 2, dtype: object\n"
     ]
    }
   ],
   "source": [
    "data = {\n",
    "    \"name\" : [\"Kamal\", \"Nimal\", \"Amal\"],\n",
    "    \"age\" : [25, 26, 27]\n",
    "}\n",
    "\n",
    "df= pd.DataFrame(data)\n",
    "print(df)\n",
    "print(f\"\\nOutput is: \\n{df.iloc[2]}\")"
   ]
  },
  {
   "cell_type": "code",
   "execution_count": 26,
   "id": "f0e2c7ec",
   "metadata": {},
   "outputs": [
    {
     "name": "stdout",
     "output_type": "stream",
     "text": [
      "              name  age\n",
      "student_1    Alice   25\n",
      "student_2      Bob   30\n",
      "student_3  Charlie   35\n",
      "student_4    David   40\n",
      "\n",
      "name    Bob\n",
      "age      30\n",
      "Name: student_2, dtype: object\n",
      "\n",
      "name    Charlie\n",
      "age          35\n",
      "Name: student_3, dtype: object\n"
     ]
    }
   ],
   "source": [
    "# Change row label\n",
    "data = {\n",
    "    \"name\" : [\"Alice\", \"Bob\", \"Charlie\", \"David\"],\n",
    "    \"age\" : [25, 30, 35, 40]\n",
    "}\n",
    "\n",
    "df= pd.DataFrame(data, index=[\"student_1\", \"student_2\", \"student_3\", \"student_4\"])\n",
    "\n",
    "print(df)\n",
    "\n",
    "print(f\"\\n{df.iloc[1]}\")\n",
    "\n",
    "print(f\"\\n{df.loc[\"student_3\"]}\")"
   ]
  },
  {
   "cell_type": "code",
   "execution_count": 32,
   "id": "cc411fc9",
   "metadata": {},
   "outputs": [
    {
     "name": "stdout",
     "output_type": "stream",
     "text": [
      "\n",
      "            name  age\n",
      "student_2    Bob   30\n",
      "student_4  David   40\n"
     ]
    }
   ],
   "source": [
    "data = {\n",
    "    \"name\" : [\"Alice\", \"Bob\", \"Charlie\", \"David\"],\n",
    "    \"age\" : [25, 30, 35, 40]\n",
    "}\n",
    "\n",
    "df= pd.DataFrame(data, index=[\"student_1\", \"student_2\", \"student_3\", \"student_4\"])\n",
    "\n",
    "print(f\"\\n{df.loc[[\"student_2\",\"student_4\"]]}\")"
   ]
  },
  {
   "cell_type": "code",
   "execution_count": 35,
   "id": "a12cc3a2",
   "metadata": {},
   "outputs": [
    {
     "name": "stdout",
     "output_type": "stream",
     "text": [
      "student_1    25\n",
      "student_2    30\n",
      "student_3    35\n",
      "student_4    40\n",
      "Name: age, dtype: int64\n"
     ]
    }
   ],
   "source": [
    "# Return Columns\n",
    "\n",
    "data = {\n",
    "    \"name\" : [\"Alice\", \"Bob\", \"Charlie\", \"David\"],\n",
    "    \"age\" : [25, 30, 35, 40]\n",
    "}\n",
    "\n",
    "age_column = df['age']\n",
    "print(age_column)"
   ]
  },
  {
   "cell_type": "code",
   "execution_count": 37,
   "id": "0d3856f5",
   "metadata": {},
   "outputs": [
    {
     "name": "stdout",
     "output_type": "stream",
     "text": [
      "Index(['name', 'age'], dtype='object')\n",
      "['name', 'age']\n"
     ]
    }
   ],
   "source": [
    "data = {\n",
    "    \"name\" : [\"Alice\", \"Bob\", \"Charlie\", \"David\"],\n",
    "    \"age\" : [25, 30, 35, 40]\n",
    "}\n",
    "\n",
    "print(df.columns)\n",
    "print(list(df.columns))"
   ]
  },
  {
   "cell_type": "code",
   "execution_count": 39,
   "id": "094f9e2d",
   "metadata": {},
   "outputs": [
    {
     "name": "stdout",
     "output_type": "stream",
     "text": [
      "[['Alice' 25]\n",
      " ['Bob' 30]\n",
      " ['Charlie' 35]\n",
      " ['David' 40]]\n"
     ]
    }
   ],
   "source": [
    "data = {\n",
    "    \"name\" : [\"Alice\", \"Bob\", \"Charlie\", \"David\"],\n",
    "    \"age\" : [25, 30, 35, 40]\n",
    "}\n",
    "\n",
    "print(df.values)"
   ]
  },
  {
   "cell_type": "code",
   "execution_count": null,
   "id": "8f827f0f",
   "metadata": {},
   "outputs": [
    {
     "name": "stdout",
     "output_type": "stream",
     "text": [
      "32.5\n",
      "130\n"
     ]
    }
   ],
   "source": [
    "data = {\n",
    "    \"name\" : [\"Alice\", \"Bob\", \"Charlie\", \"David\"],\n",
    "    \"age\" : [25, 30, 35, 40]\n",
    "}\n",
    "\n",
    "# Can be used numarical values\n",
    "print(df['age'].mean())\n",
    "print(df['age'].sum())"
   ]
  },
  {
   "cell_type": "code",
   "execution_count": 46,
   "id": "5a89dfe5",
   "metadata": {},
   "outputs": [
    {
     "name": "stdout",
     "output_type": "stream",
     "text": [
      "              name  age     city  salry\n",
      "student_1    Alice   25  colombo  50000\n",
      "student_2      Bob   30    kandy  60000\n",
      "student_3  Charlie   35    Galle  70000\n",
      "student_4    David   40   Matara  80000\n"
     ]
    }
   ],
   "source": [
    "# Add new column \n",
    "\n",
    "data = {\n",
    "    \"name\" : [\"Alice\", \"Bob\", \"Charlie\", \"David\"],\n",
    "    \"age\" : [25, 30, 35, 40]\n",
    "}\n",
    "\n",
    "df[\"city\"] = [\"colombo\", \"kandy\", \"Galle\", \"Matara\"]\n",
    "df[\"salry\"] = [50000, 60000, 70000, 80000]\n",
    "\n",
    "print(df)"
   ]
  },
  {
   "cell_type": "code",
   "execution_count": 50,
   "id": "0ec208a0",
   "metadata": {},
   "outputs": [
    {
     "name": "stdout",
     "output_type": "stream",
     "text": [
      "              name  age     city  salry\n",
      "student_1    Alice   25  colombo  50000\n",
      "student_2      Bob   30    kandy  60000\n",
      "student_3  Charlie   35    Galle  70000\n",
      "student_4    David   40   Matara  80000\n",
      "\n",
      "               name  age    city  salry\n",
      "student_3  Charlie   35   Galle  70000\n",
      "student_4    David   40  Matara  80000\n",
      "\n",
      " <class 'pandas.core.frame.DataFrame'>\n"
     ]
    }
   ],
   "source": [
    "print(df)\n",
    "\n",
    "filter_df = df[df['age'] > 30]\n",
    "print(f\"\\n {filter_df}\")\n",
    "print(f\"\\n {type(filter_df)}\")"
   ]
  },
  {
   "cell_type": "code",
   "execution_count": 57,
   "id": "f7cc6fd7",
   "metadata": {},
   "outputs": [
    {
     "name": "stdout",
     "output_type": "stream",
     "text": [
      "              name  age     city  salry\n",
      "student_1    Alice   25  colombo  50000\n",
      "student_2      Bob   30    kandy  60000\n",
      "student_3  Charlie   35    Galle  70000\n",
      "student_4    David   40   Matara  80000\n",
      "\n",
      "          name  age   city  salry\n",
      "student_2  Bob   30  kandy  60000\n"
     ]
    }
   ],
   "source": [
    "print(df)\n",
    "\n",
    "filter_df = df[(df['age'] > 28) & (df['salry'] < 65000)]\n",
    "print(f\"\\n{filter_df}\")\n"
   ]
  },
  {
   "cell_type": "code",
   "execution_count": null,
   "id": "d823e0a6",
   "metadata": {},
   "outputs": [
    {
     "name": "stdout",
     "output_type": "stream",
     "text": [
      "  StudentId      Name  Assignment1  Assignment2  FinalExam\n",
      "0      I001    Ayesha           78           85         90\n",
      "1      I002     Nimal           65           70         72\n",
      "2      I003  Tharindu           88           90         95\n",
      "3      I004     Kasun           50           45         60\n",
      "4      I005  Shashini           80           75         85\n",
      "\n",
      "       Name  FinalExam\n",
      "0    Ayesha         90\n",
      "2  Tharindu         95\n",
      "4  Shashini         85\n",
      "\n",
      "  StudentId      Name  Assignment1  Assignment2  FinalExam    avarage\n",
      "0      I001    Ayesha           78           85         90  84.333333\n",
      "1      I002     Nimal           65           70         72  69.000000\n",
      "2      I003  Tharindu           88           90         95  91.000000\n",
      "3      I004     Kasun           50           45         60  51.666667\n",
      "4      I005  Shashini           80           75         85  80.000000\n",
      "\n",
      "Highest avarage score:        Name  avarage\n",
      "2  Tharindu     91.0\n",
      "\n",
      "Assignment 1 Toatl marks : 361\n"
     ]
    },
    {
     "data": {
      "text/html": [
       "<div>\n",
       "<style scoped>\n",
       "    .dataframe tbody tr th:only-of-type {\n",
       "        vertical-align: middle;\n",
       "    }\n",
       "\n",
       "    .dataframe tbody tr th {\n",
       "        vertical-align: top;\n",
       "    }\n",
       "\n",
       "    .dataframe thead th {\n",
       "        text-align: right;\n",
       "    }\n",
       "</style>\n",
       "<table border=\"1\" class=\"dataframe\">\n",
       "  <thead>\n",
       "    <tr style=\"text-align: right;\">\n",
       "      <th></th>\n",
       "      <th>StudentId</th>\n",
       "      <th>Name</th>\n",
       "      <th>Assignment1</th>\n",
       "      <th>Assignment2</th>\n",
       "      <th>FinalExam</th>\n",
       "      <th>avarage</th>\n",
       "    </tr>\n",
       "  </thead>\n",
       "  <tbody>\n",
       "    <tr>\n",
       "      <th>0</th>\n",
       "      <td>I001</td>\n",
       "      <td>Ayesha</td>\n",
       "      <td>78</td>\n",
       "      <td>85</td>\n",
       "      <td>90</td>\n",
       "      <td>84.333333</td>\n",
       "    </tr>\n",
       "    <tr>\n",
       "      <th>1</th>\n",
       "      <td>I002</td>\n",
       "      <td>Nimal</td>\n",
       "      <td>65</td>\n",
       "      <td>70</td>\n",
       "      <td>72</td>\n",
       "      <td>69.000000</td>\n",
       "    </tr>\n",
       "    <tr>\n",
       "      <th>2</th>\n",
       "      <td>I003</td>\n",
       "      <td>Tharindu</td>\n",
       "      <td>88</td>\n",
       "      <td>90</td>\n",
       "      <td>95</td>\n",
       "      <td>91.000000</td>\n",
       "    </tr>\n",
       "    <tr>\n",
       "      <th>3</th>\n",
       "      <td>I004</td>\n",
       "      <td>Kasun</td>\n",
       "      <td>50</td>\n",
       "      <td>45</td>\n",
       "      <td>60</td>\n",
       "      <td>51.666667</td>\n",
       "    </tr>\n",
       "    <tr>\n",
       "      <th>4</th>\n",
       "      <td>I005</td>\n",
       "      <td>Shashini</td>\n",
       "      <td>80</td>\n",
       "      <td>75</td>\n",
       "      <td>85</td>\n",
       "      <td>80.000000</td>\n",
       "    </tr>\n",
       "  </tbody>\n",
       "</table>\n",
       "</div>"
      ],
      "text/plain": [
       "  StudentId      Name  Assignment1  Assignment2  FinalExam    avarage\n",
       "0      I001    Ayesha           78           85         90  84.333333\n",
       "1      I002     Nimal           65           70         72  69.000000\n",
       "2      I003  Tharindu           88           90         95  91.000000\n",
       "3      I004     Kasun           50           45         60  51.666667\n",
       "4      I005  Shashini           80           75         85  80.000000"
      ]
     },
     "execution_count": 109,
     "metadata": {},
     "output_type": "execute_result"
    }
   ],
   "source": [
    "# Excersice\n",
    "\n",
    "data = {\n",
    "    \"StudentId\" : [\"I001\",\"I002\",\"I003\",\"I004\",\"I005\"],\n",
    "    \"Name\" : [\"Ayesha\", \"Nimal\", \"Tharindu\", \"Kasun\", \"Shashini\"],\n",
    "    \"Assignment1\" : [78, 65, 88, 50, 80],\n",
    "    \"Assignment2\" : [85, 70, 90, 45, 75],\n",
    "    \"FinalExam\" : [90, 72, 95, 60, 85]\n",
    "}\n",
    "\n",
    "df = pd.DataFrame(data)\n",
    "print(df)\n",
    "\n",
    "filter_df = df[df['FinalExam'] > 80]\n",
    "print(f\"\\n{filter_df[['Name','FinalExam']]}\")\n",
    "\n",
    "# df[\"avarage\"] = df[['Assignment1', 'Assignment2', 'FinalExam']].mean(axis=1)\n",
    "# print(f\"\\n{df}\")\n",
    "\n",
    "df[\"avarage\"] = (df['Assignment1'] + df['Assignment2'] + df['FinalExam']) / 3\n",
    "print(f\"\\n{df}\")\n",
    "df\n",
    "\n",
    "\n",
    "highest_avarage_score = df['avarage'].max()\n",
    "max_avarage = df[df[\"avarage\"] == highest_avarage_score]\n",
    "print(f\"\\nHighest avarage score: {max_avarage[['Name', 'avarage']]}\")\n",
    "\n",
    "total_marks = df[\"Assignment1\"].sum()\n",
    "print(f\"\\nAssignment 1 Toatl marks : {total_marks}\")\n"
   ]
  }
 ],
 "metadata": {
  "kernelspec": {
   "display_name": "Python 3",
   "language": "python",
   "name": "python3"
  },
  "language_info": {
   "codemirror_mode": {
    "name": "ipython",
    "version": 3
   },
   "file_extension": ".py",
   "mimetype": "text/x-python",
   "name": "python",
   "nbconvert_exporter": "python",
   "pygments_lexer": "ipython3",
   "version": "3.13.4"
  }
 },
 "nbformat": 4,
 "nbformat_minor": 5
}
