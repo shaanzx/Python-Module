{
 "cells": [
  {
   "cell_type": "code",
   "execution_count": 1,
   "id": "07b74b7f",
   "metadata": {},
   "outputs": [
    {
     "name": "stdout",
     "output_type": "stream",
     "text": [
      "[ 5  8 10 12 16 20]\n",
      "<class 'numpy.ndarray'>\n"
     ]
    }
   ],
   "source": [
    "import numpy as np\n",
    "\n",
    "arr = np.array([5,8,10,12,16,20])\n",
    "print(arr)\n",
    "print(type(arr))"
   ]
  },
  {
   "cell_type": "code",
   "execution_count": 6,
   "id": "952e43bc",
   "metadata": {},
   "outputs": [
    {
     "name": "stdout",
     "output_type": "stream",
     "text": [
      "Output is : [ 2  4  6  8 10]\n"
     ]
    }
   ],
   "source": [
    "# Addition\n",
    "import numpy as np\n",
    "\n",
    "arr_1 = np.array([1, 2, 3, 4, 5])\n",
    "arr_2 = np.array([1, 2, 3, 4, 5])\n",
    "\n",
    "new_arr = arr_1 + arr_2\n",
    "\n",
    "print(f\"Output is : {new_arr}\")"
   ]
  },
  {
   "cell_type": "code",
   "execution_count": null,
   "id": "34c0c074",
   "metadata": {},
   "outputs": [
    {
     "name": "stdout",
     "output_type": "stream",
     "text": [
      "Output is : [1 2 3 4 5]\n"
     ]
    }
   ],
   "source": [
    "# Subtract\n",
    "import numpy as np\n",
    "\n",
    "arr_1 = np.array([2, 4, 6, 8, 10])\n",
    "arr_2 = np.array([1, 2, 3, 4, 5])\n",
    "\n",
    "new_arr = arr_1 - arr_2\n",
    "\n",
    "print(f\"Output is : {new_arr}\")"
   ]
  },
  {
   "cell_type": "code",
   "execution_count": null,
   "id": "7ca948f2",
   "metadata": {},
   "outputs": [
    {
     "name": "stdout",
     "output_type": "stream",
     "text": [
      "Output is : [ 1  4  9 16 25]\n"
     ]
    }
   ],
   "source": [
    "# Multiply\n",
    "import numpy as np\n",
    "\n",
    "arr_1 = np.array([1, 2, 3, 4, 5])\n",
    "arr_2 = np.array([1, 2, 3, 4, 5])\n",
    "\n",
    "new_arr = arr_1 * arr_2\n",
    "\n",
    "print(f\"Output is : {new_arr}\")"
   ]
  },
  {
   "cell_type": "code",
   "execution_count": 12,
   "id": "ab26520b",
   "metadata": {},
   "outputs": [
    {
     "name": "stdout",
     "output_type": "stream",
     "text": [
      "Output is : [10. 10. 10. 10. 10.]\n"
     ]
    }
   ],
   "source": [
    "# Divide\n",
    "import numpy as np\n",
    "\n",
    "arr_1 = np.array([10, 20, 30, 40, 50])\n",
    "arr_2 = np.array([1, 2, 3, 4, 5])\n",
    "\n",
    "new_arr = arr_1 / arr_2\n",
    "\n",
    "print(f\"Output is : {new_arr}\")"
   ]
  },
  {
   "cell_type": "code",
   "execution_count": 19,
   "id": "eb100f61",
   "metadata": {},
   "outputs": [
    {
     "name": "stdout",
     "output_type": "stream",
     "text": [
      "Output is : [  256    81 10000]\n"
     ]
    }
   ],
   "source": [
    "# Squaring inbuilt function\n",
    "import numpy as np\n",
    "\n",
    "arr_1 = np.array([16, 9, 100])\n",
    "\n",
    "new_arr = np.square(arr_1)\n",
    "\n",
    "print(f\"Output is : {new_arr}\")"
   ]
  },
  {
   "cell_type": "code",
   "execution_count": null,
   "id": "89441297",
   "metadata": {},
   "outputs": [
    {
     "name": "stdout",
     "output_type": "stream",
     "text": [
      "Output is : 41.666666666666664\n"
     ]
    }
   ],
   "source": [
    "# Mean inbuilt function\n",
    "import numpy as np\n",
    "\n",
    "arr_1 = np.array([16, 9, 100])\n",
    "\n",
    "new_arr = np.mean(arr_1)\n",
    "\n",
    "print(f\"Output is : {new_arr}\")"
   ]
  },
  {
   "cell_type": "code",
   "execution_count": null,
   "id": "d213c3c8",
   "metadata": {},
   "outputs": [
    {
     "name": "stdout",
     "output_type": "stream",
     "text": [
      "Output is : 125\n"
     ]
    }
   ],
   "source": [
    "# Sum inbuilt function\n",
    "import numpy as np\n",
    "\n",
    "arr_1 = np.array([16, 9, 100])\n",
    "\n",
    "new_arr = np.sum(arr_1)\n",
    "print(f\"Output is : {new_arr}\")"
   ]
  },
  {
   "cell_type": "code",
   "execution_count": 20,
   "id": "fdf0a703",
   "metadata": {},
   "outputs": [
    {
     "name": "stdout",
     "output_type": "stream",
     "text": [
      "Output is : 100\n"
     ]
    }
   ],
   "source": [
    "# Max inbuilt function\n",
    "import numpy as np\n",
    "\n",
    "arr_1 = np.array([16, 9, 100])\n",
    "\n",
    "new_arr = np.max(arr_1)\n",
    "\n",
    "print(f\"Output is : {new_arr}\")"
   ]
  },
  {
   "cell_type": "code",
   "execution_count": 21,
   "id": "b81c1c67",
   "metadata": {},
   "outputs": [
    {
     "name": "stdout",
     "output_type": "stream",
     "text": [
      "Output is : 9\n"
     ]
    }
   ],
   "source": [
    "# Min inbuilt function\n",
    "import numpy as np\n",
    "\n",
    "arr_1 = np.array([16, 9, 100])\n",
    "\n",
    "new_arr = np.min(arr_1)\n",
    "\n",
    "print(f\"Output is : {new_arr}\")"
   ]
  },
  {
   "cell_type": "code",
   "execution_count": null,
   "id": "92021072",
   "metadata": {},
   "outputs": [
    {
     "name": "stdout",
     "output_type": "stream",
     "text": [
      "Output is : [[10 11 12 13]\n",
      " [ 1  2  3  4]]\n",
      "Output is : 8\n",
      "Output is : 0\n"
     ]
    }
   ],
   "source": [
    "# Multi Dimensional Array\n",
    "\n",
    "import numpy as np\n",
    "\n",
    "arr_2d = np.array([[10, 11, 12, 13] , [1, 2, 3, 4]])\n",
    "\n",
    "print(f\"Output is : {arr_2d}\")"
   ]
  },
  {
   "cell_type": "code",
   "execution_count": 28,
   "id": "d2a0a38c",
   "metadata": {},
   "outputs": [
    {
     "name": "stdout",
     "output_type": "stream",
     "text": [
      "Output is : [[10 11 12 13]\n",
      " [ 1  2  3  4]]\n",
      "Output is : 8\n"
     ]
    }
   ],
   "source": [
    "import numpy as np\n",
    "\n",
    "arr_2d = np.array([[10, 11, 12, 13] , [1, 2, 3, 4]])\n",
    "\n",
    "print(f\"Output is : {arr_2d}\")\n",
    "print(f\"Output is : {arr_2d.size}\")"
   ]
  },
  {
   "cell_type": "code",
   "execution_count": 29,
   "id": "1d567b5d",
   "metadata": {},
   "outputs": [
    {
     "name": "stdout",
     "output_type": "stream",
     "text": [
      "Output is : [[10 11 12 13]\n",
      " [ 1  2  3  4]]\n",
      "Output is : 2\n"
     ]
    }
   ],
   "source": [
    "import numpy as np\n",
    "\n",
    "arr_2d = np.array([[10, 11, 12, 13] , [1, 2, 3, 4]])\n",
    "\n",
    "print(f\"Output is : {arr_2d}\")\n",
    "print(f\"Output is : {arr_2d.ndim}\")"
   ]
  },
  {
   "cell_type": "code",
   "execution_count": 30,
   "id": "c6bfe384",
   "metadata": {},
   "outputs": [
    {
     "name": "stdout",
     "output_type": "stream",
     "text": [
      "Output is : [[10 11 12 13]\n",
      " [ 1  2  3  4]]\n",
      "Output is : (2, 4)\n"
     ]
    }
   ],
   "source": [
    "import numpy as np\n",
    "\n",
    "arr_2d = np.array([[10, 11, 12, 13] , [1, 2, 3, 4]])\n",
    "\n",
    "print(f\"Output is : {arr_2d}\")\n",
    "print(f\"Output is : {arr_2d.shape}\")"
   ]
  },
  {
   "cell_type": "code",
   "execution_count": 35,
   "id": "039ef329",
   "metadata": {},
   "outputs": [
    {
     "name": "stdout",
     "output_type": "stream",
     "text": [
      "Output is : [[[ 8  3  1]\n",
      "  [ 5  9  8]]\n",
      "\n",
      " [[20 10 11]\n",
      "  [ 6  4  3]]]\n",
      "Size is : 12\n",
      "Ndim is : 3\n",
      "Shape is : (2, 2, 3)\n"
     ]
    }
   ],
   "source": [
    "import numpy as np\n",
    "\n",
    "arr_1 = np.array([[[8, 3, 1],[5, 9, 8]] , [[20, 10, 11],[6, 4, 3]]])\n",
    "\n",
    "print(f\"Output is : {arr_1}\")\n",
    "print(f\"Size is : {arr_1.size}\")\n",
    "print(f\"Ndim is : {arr_1.ndim}\")\n",
    "print(f\"Shape is : {arr_1.shape}\")\n"
   ]
  },
  {
   "cell_type": "code",
   "execution_count": 36,
   "id": "4d5a533d",
   "metadata": {},
   "outputs": [
    {
     "name": "stdout",
     "output_type": "stream",
     "text": [
      "Output is : [[[[ 8  3  1]\n",
      "   [ 5  9  8]\n",
      "   [ 1  2  3]]]\n",
      "\n",
      "\n",
      " [[[20 10 11]\n",
      "   [ 6  4  3]\n",
      "   [ 1  2  3]]]]\n",
      "Size is : 18\n",
      "Ndim is : 4\n",
      "Shape is : (2, 1, 3, 3)\n"
     ]
    }
   ],
   "source": [
    "import numpy as np\n",
    "\n",
    "arr_1 = np.array([[[[8, 3, 1],[5, 9, 8],[1, 2, 3]]] , [[[20, 10, 11],[6, 4, 3],[1,2,3]]]])\n",
    "\n",
    "print(f\"Output is : {arr_1}\")\n",
    "print(f\"Size is : {arr_1.size}\")\n",
    "print(f\"Ndim is : {arr_1.ndim}\")\n",
    "print(f\"Shape is : {arr_1.shape}\")"
   ]
  },
  {
   "cell_type": "code",
   "execution_count": 44,
   "id": "b8a70067",
   "metadata": {},
   "outputs": [
    {
     "name": "stdout",
     "output_type": "stream",
     "text": [
      "int64\n"
     ]
    }
   ],
   "source": [
    "# dtype\n",
    "\n",
    "import numpy as np\n",
    "\n",
    "arr_1 = np.array([5, 9, 10, 15])\n",
    "\n",
    "print(arr_1.dtype)"
   ]
  },
  {
   "cell_type": "code",
   "execution_count": 45,
   "id": "72710c46",
   "metadata": {},
   "outputs": [
    {
     "name": "stdout",
     "output_type": "stream",
     "text": [
      "3\n"
     ]
    }
   ],
   "source": [
    "# Array Indexing\n",
    "\n",
    "# 1D\n",
    "\n",
    "import numpy as np\n",
    "\n",
    "arr_1 = np.array([1, 2, 3, 4])\n",
    "\n",
    "print(arr_1[2])"
   ]
  },
  {
   "cell_type": "code",
   "execution_count": 46,
   "id": "543d03dd",
   "metadata": {},
   "outputs": [
    {
     "name": "stdout",
     "output_type": "stream",
     "text": [
      "6\n"
     ]
    }
   ],
   "source": [
    "# 2D\n",
    "\n",
    "import numpy as np\n",
    "\n",
    "arr_1 = np.array([[1, 2, 3, 4] , [2, 4, 6, 8]])\n",
    "print(arr_1[1,2])"
   ]
  },
  {
   "cell_type": "code",
   "execution_count": null,
   "id": "4f0349ed",
   "metadata": {},
   "outputs": [
    {
     "name": "stdout",
     "output_type": "stream",
     "text": [
      "3\n"
     ]
    }
   ],
   "source": [
    "# Negative Indexing\n",
    "\n",
    "import numpy as np\n",
    "\n",
    "arr_1 = np.array([[1, 2, 3, 4] , [2, 4, 6, 8]])\n",
    "print(arr_1[ -2, -2])"
   ]
  },
  {
   "cell_type": "code",
   "execution_count": null,
   "id": "c39a23cb",
   "metadata": {},
   "outputs": [
    {
     "name": "stdout",
     "output_type": "stream",
     "text": [
      "[30 40 50]\n",
      "[30 40 50]\n"
     ]
    }
   ],
   "source": [
    "# Boolean Indexing\n",
    "\n",
    "import numpy as np\n",
    "\n",
    "arr = np.array([30, 10, 40, 50, 20])\n",
    "condition = arr > 25\n",
    "\n",
    "print(arr[condition])\n",
    "\n",
    "# print(arr[arr > 25]) Indrustry Level"
   ]
  },
  {
   "cell_type": "code",
   "execution_count": 67,
   "id": "f7d28809",
   "metadata": {},
   "outputs": [
    {
     "name": "stdout",
     "output_type": "stream",
     "text": [
      "Output is : [30 40]\n"
     ]
    }
   ],
   "source": [
    "#Excersice\n",
    "\n",
    "import numpy as np\n",
    "\n",
    "arr = np.array([30, 10, 40, 50, 20])\n",
    "\n",
    "print(f\"Output is : {arr[(arr > 25) & (arr < 45)]}\")"
   ]
  },
  {
   "cell_type": "code",
   "execution_count": null,
   "id": "b61d638c",
   "metadata": {},
   "outputs": [
    {
     "name": "stdout",
     "output_type": "stream",
     "text": [
      "Avarage temp is : 29.666666666666668\n",
      "[31 30 32 31 34 35 31 30]\n"
     ]
    }
   ],
   "source": [
    "#Excersice\n",
    "\n",
    "import numpy as np\n",
    "\n",
    "patient_temp = np.array([\n",
    "    [31, 30, 28], \n",
    "    [29, 29, 32], \n",
    "    [26, 24, 27], \n",
    "    [31, 34, 35], \n",
    "    [28, 31, 30]\n",
    "])\n",
    "\n",
    "avarage_temp = np.mean(patient_temp)\n",
    "\n",
    "print(f\"Avarage temp is : {avarage_temp}\")\n",
    "\n",
    "print(patient_temp [patient_temp > avarage_temp])"
   ]
  },
  {
   "cell_type": "code",
   "execution_count": null,
   "id": "54877727",
   "metadata": {},
   "outputs": [
    {
     "name": "stdout",
     "output_type": "stream",
     "text": [
      "[0. 0. 0. 0. 0.]\n"
     ]
    }
   ],
   "source": [
    "# Value Initialize Using zeros\n",
    "# 1D\n",
    "import numpy as np\n",
    "\n",
    "print(np.zeros(5))"
   ]
  },
  {
   "cell_type": "code",
   "execution_count": null,
   "id": "9b0ce078",
   "metadata": {},
   "outputs": [
    {
     "name": "stdout",
     "output_type": "stream",
     "text": [
      "[[0. 0. 0.]\n",
      " [0. 0. 0.]]\n"
     ]
    }
   ],
   "source": [
    "# Value Initialize Using zeros\n",
    "# 2D\n",
    "import numpy as np\n",
    "\n",
    "print(np.zeros((2,3)))"
   ]
  },
  {
   "cell_type": "code",
   "execution_count": null,
   "id": "5311b6c4",
   "metadata": {},
   "outputs": [
    {
     "name": "stdout",
     "output_type": "stream",
     "text": [
      "[1. 1. 1. 1. 1.]\n"
     ]
    }
   ],
   "source": [
    "# Value Initialize Using ones\n",
    "# 1D\n",
    "import numpy as np\n",
    "\n",
    "print(np.ones(5))"
   ]
  },
  {
   "cell_type": "code",
   "execution_count": null,
   "id": "1a3516e8",
   "metadata": {},
   "outputs": [
    {
     "name": "stdout",
     "output_type": "stream",
     "text": [
      "[[1. 1. 1.]\n",
      " [1. 1. 1.]]\n"
     ]
    }
   ],
   "source": [
    "# Value Initialize Using ones\n",
    "# 2D\n",
    "import numpy as np\n",
    "\n",
    "print(np.ones((2,3)))"
   ]
  },
  {
   "cell_type": "code",
   "execution_count": 78,
   "id": "f249d318",
   "metadata": {},
   "outputs": [
    {
     "name": "stdout",
     "output_type": "stream",
     "text": [
      "[[7 7 7]\n",
      " [7 7 7]]\n"
     ]
    }
   ],
   "source": [
    "# Value Initialize Using ones.We can assign any value\n",
    "# 2D\n",
    "import numpy as np\n",
    "\n",
    "print(np.full((2,3), 7))"
   ]
  },
  {
   "cell_type": "code",
   "execution_count": 85,
   "id": "3231e137",
   "metadata": {},
   "outputs": [
    {
     "name": "stdout",
     "output_type": "stream",
     "text": [
      "[[1 2 3]\n",
      " [1 2 3]]\n"
     ]
    }
   ],
   "source": [
    "import numpy as np\n",
    "\n",
    "print(np.full((2,3), [1,2,3]))"
   ]
  },
  {
   "cell_type": "code",
   "execution_count": 88,
   "id": "740be62b",
   "metadata": {},
   "outputs": [
    {
     "name": "stdout",
     "output_type": "stream",
     "text": [
      "[[4.9e-324 9.9e-324 1.5e-323]\n",
      " [4.9e-324 9.9e-324 1.5e-323]]\n"
     ]
    }
   ],
   "source": [
    "print(np.empty((2,3)))"
   ]
  }
 ],
 "metadata": {
  "kernelspec": {
   "display_name": "Python 3",
   "language": "python",
   "name": "python3"
  },
  "language_info": {
   "codemirror_mode": {
    "name": "ipython",
    "version": 3
   },
   "file_extension": ".py",
   "mimetype": "text/x-python",
   "name": "python",
   "nbconvert_exporter": "python",
   "pygments_lexer": "ipython3",
   "version": "3.13.4"
  }
 },
 "nbformat": 4,
 "nbformat_minor": 5
}
