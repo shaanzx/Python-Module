{
 "cells": [
  {
   "cell_type": "code",
   "execution_count": 3,
   "id": "443d1e88",
   "metadata": {},
   "outputs": [
    {
     "name": "stdout",
     "output_type": "stream",
     "text": [
      "Variable is not 10 and 11\n"
     ]
    }
   ],
   "source": [
    "variable = 12\n",
    "\n",
    "match variable:\n",
    "    case 10:\n",
    "        print(\"Variable is 10\")\n",
    "    case 11:\n",
    "        print(\"Variable is 11\")\n",
    "    case _:\n",
    "        print(\"Variable is not 10 and 11\")\n"
   ]
  },
  {
   "cell_type": "code",
   "execution_count": null,
   "id": "db0926b7",
   "metadata": {},
   "outputs": [
    {
     "name": "stdout",
     "output_type": "stream",
     "text": [
      "Today is Wednesday!\n"
     ]
    }
   ],
   "source": [
    "week_day = int(input(\"Enter a number: \"))\n",
    "\n",
    "\n",
    "match week_day:\n",
    "    case 1:\n",
    "        print(\"Today is Monday!\")\n",
    "    case 2:\n",
    "        print(\"Today is Tuesday!\")\n",
    "    case 3:\n",
    "        print(\"Today is Wednesday!\")\n",
    "    case 4:\n",
    "        print(\"Today is Thursday!\")\n",
    "    case 5:\n",
    "        print(\"Today is Friday!\")\n",
    "    case 6:\n",
    "        print(\"Today is Saturday!\")\n",
    "    case 7:\n",
    "        print(\"Today is Sunday!\")\n",
    "    case _:\n",
    "        print(\"Input number between 1 to 7 \")"
   ]
  },
  {
   "cell_type": "code",
   "execution_count": null,
   "id": "98caaee3",
   "metadata": {},
   "outputs": [
    {
     "name": "stdout",
     "output_type": "stream",
     "text": [
      "Stop!\n"
     ]
    }
   ],
   "source": [
    "traffic_color = input(\"Input color : \")\n",
    "\n",
    "match traffic_color:\n",
    "    case \"Red\" | \"Blinking\":\n",
    "        print(\"Stop!\")\n",
    "    case \"Yellow\":\n",
    "        print(\"Slow down!\")\n",
    "    case \"Green\":\n",
    "        print(\"Go!\")\n",
    "    case _:\n",
    "        print(\"Invalid color\")"
   ]
  },
  {
   "cell_type": "code",
   "execution_count": 15,
   "id": "ad8e6896",
   "metadata": {},
   "outputs": [
    {
     "name": "stdout",
     "output_type": "stream",
     "text": [
      "21\n"
     ]
    }
   ],
   "source": [
    "numbers = [ 3, 7]\n",
    "match numbers:\n",
    "    case [x , y]:\n",
    "        print(x * y)\n",
    "        \n",
    "    case [x , y, z]:\n",
    "        print(4 + 3 +7)\n",
    "    case _:\n",
    "        print(\"Not available!\")"
   ]
  },
  {
   "cell_type": "code",
   "execution_count": null,
   "id": "c037e63f",
   "metadata": {},
   "outputs": [
    {
     "name": "stdout",
     "output_type": "stream",
     "text": [
      "Differnet is 10\n"
     ]
    }
   ],
   "source": [
    "temp = [60,60,55,55]\n",
    "\n",
    "match temp:\n",
    "    case [x ,y]:\n",
    "        avarage = (x + y) / 2\n",
    "        print(f\"Avarage is {avarage}\")\n",
    "    case [a, b, c, d]:\n",
    "        f_reading = a + b\n",
    "        s_reafing = c + d\n",
    "        differnt = f_reading - s_reafing\n",
    "        print(f\"Differnet is {differnt}\")\n",
    "    case _:\n",
    "        print(\"Unsupported no of reading!\")"
   ]
  }
 ],
 "metadata": {
  "kernelspec": {
   "display_name": "Python 3",
   "language": "python",
   "name": "python3"
  },
  "language_info": {
   "codemirror_mode": {
    "name": "ipython",
    "version": 3
   },
   "file_extension": ".py",
   "mimetype": "text/x-python",
   "name": "python",
   "nbconvert_exporter": "python",
   "pygments_lexer": "ipython3",
   "version": "3.13.4"
  }
 },
 "nbformat": 4,
 "nbformat_minor": 5
}
