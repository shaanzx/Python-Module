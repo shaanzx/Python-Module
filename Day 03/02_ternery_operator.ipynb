{
 "cells": [
  {
   "cell_type": "code",
   "execution_count": null,
   "id": "a703385c",
   "metadata": {},
   "outputs": [],
   "source": [
    "# Ternery Operators"
   ]
  },
  {
   "cell_type": "code",
   "execution_count": 2,
   "id": "708815f8",
   "metadata": {},
   "outputs": [
    {
     "name": "stdout",
     "output_type": "stream",
     "text": [
      "This is Odd number\n"
     ]
    }
   ],
   "source": [
    "x = 11\n",
    "result = \"This is even number\" if x % 2 == 0 else \"This is Odd number\"\n",
    "print(result)"
   ]
  },
  {
   "cell_type": "code",
   "execution_count": 15,
   "id": "b5d442ba",
   "metadata": {},
   "outputs": [
    {
     "name": "stdout",
     "output_type": "stream",
     "text": [
      "Abs value is 10\n"
     ]
    }
   ],
   "source": [
    "n = +10\n",
    "result = n if n >= 0 else -n\n",
    "print(f\"Abs value is {result}\")"
   ]
  }
 ],
 "metadata": {
  "kernelspec": {
   "display_name": "Python 3",
   "language": "python",
   "name": "python3"
  },
  "language_info": {
   "codemirror_mode": {
    "name": "ipython",
    "version": 3
   },
   "file_extension": ".py",
   "mimetype": "text/x-python",
   "name": "python",
   "nbconvert_exporter": "python",
   "pygments_lexer": "ipython3",
   "version": "3.13.4"
  }
 },
 "nbformat": 4,
 "nbformat_minor": 5
}
