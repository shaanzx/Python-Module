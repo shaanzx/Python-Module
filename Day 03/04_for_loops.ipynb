{
 "cells": [
  {
   "cell_type": "code",
   "execution_count": 4,
   "id": "0d2d2aac",
   "metadata": {},
   "outputs": [],
   "source": [
    "# For loops"
   ]
  },
  {
   "cell_type": "code",
   "execution_count": 3,
   "id": "4b5864be",
   "metadata": {},
   "outputs": [
    {
     "name": "stdout",
     "output_type": "stream",
     "text": [
      "12\n",
      "8\n",
      "18\n"
     ]
    }
   ],
   "source": [
    "my_list = [12, 5, 8, 9, 18]\n",
    "\n",
    "for item in my_list:\n",
    "    if item % 2 == 0:\n",
    "        print(item)"
   ]
  },
  {
   "cell_type": "code",
   "execution_count": 12,
   "id": "8ffffc95",
   "metadata": {},
   "outputs": [
    {
     "name": "stdout",
     "output_type": "stream",
     "text": [
      "1 square value: 1\n",
      "2 square value: 4\n",
      "3 square value: 9\n",
      "4 square value: 16\n",
      "5 square value: 25\n",
      "6 square value: 36\n",
      "7 square value: 49\n",
      "8 square value: 64\n",
      "9 square value: 81\n",
      "10 square value: 100\n"
     ]
    }
   ],
   "source": [
    "# Excersice \n",
    "# Find Square values\n",
    "\n",
    "for item in range(1, 11):\n",
    "    print(f\"{item} square value: {item ** 2}\")"
   ]
  },
  {
   "cell_type": "code",
   "execution_count": null,
   "id": "110b542e",
   "metadata": {},
   "outputs": [
    {
     "name": "stdout",
     "output_type": "stream",
     "text": [
      "1\n",
      "4\n",
      "9\n"
     ]
    }
   ],
   "source": [
    "# Excersice\n",
    "# Input a positive number and print below square values user input\n",
    "num = int(input(\"Input a positive number : \"))\n",
    "\n",
    "if num <= 0 :        \n",
    "    print(\"Enter Positive value!\")\n",
    "else:\n",
    "    for i in range(1, num):\n",
    "        sqaure_num = i ** 2\n",
    "        if sqaure_num < num :\n",
    "            print(sqaure_num)\n",
    "        else:\n",
    "            break"
   ]
  },
  {
   "cell_type": "code",
   "execution_count": 43,
   "id": "ecd4309e",
   "metadata": {},
   "outputs": [
    {
     "name": "stdout",
     "output_type": "stream",
     "text": [
      "10\n",
      "10 is found\n"
     ]
    }
   ],
   "source": [
    "# Excersice\n",
    "# Linear search\n",
    "\n",
    "my_list = [10, 18, 12, 15, 21, 54]\n",
    "target = 10\n",
    "found = False\n",
    "\n",
    "for i in my_list:\n",
    "    if i == target:\n",
    "        print(i)\n",
    "        print(f\"{target} is found\")\n",
    "        found = True\n",
    "        break\n",
    "    \n",
    "if not found:\n",
    "    print(f\"{target} not found\")\n",
    "       "
   ]
  },
  {
   "cell_type": "code",
   "execution_count": null,
   "id": "7105fd1c",
   "metadata": {},
   "outputs": [
    {
     "name": "stdout",
     "output_type": "stream",
     "text": [
      "10 is found\n"
     ]
    }
   ],
   "source": [
    "# we can use only else with for loops\n",
    "\n",
    "# Excersice\n",
    "# Linear search\n",
    "\n",
    "my_list = [10, 18, 12, 15, 21, 54]\n",
    "target = 10\n",
    "\n",
    "for i in my_list:\n",
    "    if i == target:\n",
    "        print(f\"{target} is found\")\n",
    "        break\n",
    "else:\n",
    "    print(f\"{target} not found\")"
   ]
  },
  {
   "cell_type": "code",
   "execution_count": 7,
   "id": "fdf05744",
   "metadata": {},
   "outputs": [
    {
     "name": "stdout",
     "output_type": "stream",
     "text": [
      "Maximum value is 54\n"
     ]
    }
   ],
   "source": [
    "# Excersice\n",
    "#Find the maxmium value in list\n",
    "\n",
    "my_list = [54, 45, 50]\n",
    "max_value = my_list[0]\n",
    "\n",
    "for i in my_list:\n",
    "    if i > max_value:\n",
    "        max_value = i\n",
    "print(f\"Maximum value is {max_value}\")"
   ]
  },
  {
   "cell_type": "code",
   "execution_count": 8,
   "id": "f7c7bbfc",
   "metadata": {},
   "outputs": [
    {
     "name": "stdout",
     "output_type": "stream",
     "text": [
      "[25, 100, 144, 64, 49]\n"
     ]
    }
   ],
   "source": [
    "# For loop list Comprehension\n",
    "\n",
    "my_list  = [5, 10, 12, 8, 7 ]\n",
    "new_list = [item ** 2 for item in my_list]\n",
    "print(new_list)"
   ]
  },
  {
   "cell_type": "code",
   "execution_count": 14,
   "id": "24d8f156",
   "metadata": {},
   "outputs": [
    {
     "name": "stdout",
     "output_type": "stream",
     "text": [
      "<class 'set'>\n",
      "[25, 49, 64, 100, 144]\n",
      "<class 'list'>\n"
     ]
    }
   ],
   "source": [
    "my_list  = {5, 10, 12, 8, 7}\n",
    "print(type(my_list))\n",
    "new_list = [item ** 2 for item in my_list]\n",
    "print(new_list)\n",
    "print(type(new_list))"
   ]
  },
  {
   "cell_type": "code",
   "execution_count": 21,
   "id": "8587951c",
   "metadata": {},
   "outputs": [
    {
     "name": "stdout",
     "output_type": "stream",
     "text": [
      "1 - 10 sequence value [4, 16, 36, 64, 100]\n"
     ]
    }
   ],
   "source": [
    "# Excersice\n",
    "\n",
    "sequence_value = [i ** 2 for i in range(1,11) if i % 2 == 0]\n",
    "print(f\"1 - 10 sequence value {sequence_value}\")"
   ]
  }
 ],
 "metadata": {
  "kernelspec": {
   "display_name": "Python 3",
   "language": "python",
   "name": "python3"
  },
  "language_info": {
   "codemirror_mode": {
    "name": "ipython",
    "version": 3
   },
   "file_extension": ".py",
   "mimetype": "text/x-python",
   "name": "python",
   "nbconvert_exporter": "python",
   "pygments_lexer": "ipython3",
   "version": "3.13.4"
  }
 },
 "nbformat": 4,
 "nbformat_minor": 5
}
