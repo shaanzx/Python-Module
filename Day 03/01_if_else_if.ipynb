{
 "cells": [
  {
   "cell_type": "code",
   "execution_count": null,
   "id": "7f41d345",
   "metadata": {},
   "outputs": [],
   "source": [
    "# if else-if else"
   ]
  },
  {
   "cell_type": "code",
   "execution_count": null,
   "id": "dc68b420",
   "metadata": {},
   "outputs": [
    {
     "name": "stdout",
     "output_type": "stream",
     "text": [
      "largest num is : 30\n"
     ]
    }
   ],
   "source": [
    "# Q01.\n",
    "\n",
    "num_1 = 10\n",
    "num_2 = 20\n",
    "num_3 = 30\n",
    "\n",
    "if num_1 > num_2 :\n",
    "    if num_1 > num_3 :\n",
    "        print(f\"largest num is : {num_1}\")\n",
    "elif num_2 > num_3 :\n",
    "    print(f\"largest num is : {num_2}\")\n",
    "else :\n",
    "    print(f\"largest num is : {num_3}\")\n"
   ]
  },
  {
   "cell_type": "code",
   "execution_count": 27,
   "id": "3c38c3cd",
   "metadata": {},
   "outputs": [
    {
     "name": "stdout",
     "output_type": "stream",
     "text": [
      "Decending Order : (30, 20, 10)\n"
     ]
    }
   ],
   "source": [
    "# Q01.\n",
    "\n",
    "num_1 = 10\n",
    "num_2 = 20\n",
    "num_3 = 30\n",
    "\n",
    "if num_1 > num_2 and num_1 > num_3:\n",
    "    if num_2 > num_3 :\n",
    "        print(f\"Decending Order : {num_1, num_2, num_3}\")\n",
    "    else: \n",
    "        print(f\"Decending Order : {num_1, num_3, num_2}\")\n",
    "elif num_2 > num_1 and num_2 > num_3 :\n",
    "    if num_1 > num_3 :\n",
    "        print(f\"Decending Order : {num_2, num_1, num_3}\")\n",
    "    else :\n",
    "        print(f\"Decending Order : {num_2, num_3, num_1}\")\n",
    "else :\n",
    "    if num_1 > num_2 :\n",
    "        print(f\"Decending Order : {num_3, num_1, num_2}\")\n",
    "    else :\n",
    "        print(f\"Decending Order : {num_3, num_2, num_1}\")"
   ]
  }
 ],
 "metadata": {
  "kernelspec": {
   "display_name": "Python 3",
   "language": "python",
   "name": "python3"
  },
  "language_info": {
   "codemirror_mode": {
    "name": "ipython",
    "version": 3
   },
   "file_extension": ".py",
   "mimetype": "text/x-python",
   "name": "python",
   "nbconvert_exporter": "python",
   "pygments_lexer": "ipython3",
   "version": "3.13.4"
  }
 },
 "nbformat": 4,
 "nbformat_minor": 5
}
