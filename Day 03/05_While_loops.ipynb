{
 "cells": [
  {
   "cell_type": "code",
   "execution_count": 25,
   "id": "c1727c46",
   "metadata": {},
   "outputs": [
    {
     "name": "stdout",
     "output_type": "stream",
     "text": [
      "9\n",
      "8\n",
      "7\n",
      "6\n",
      "5\n",
      "4\n",
      "3\n",
      "2\n",
      "1\n"
     ]
    }
   ],
   "source": [
    "# Display all positive integer which are below than the user input. inout no display\n",
    "\n",
    "n = int(input(\"Input a positive number : \"))\n",
    "num = 0\n",
    "if n > 0:\n",
    "    while n-1 > num:\n",
    "            print(n-1)\n",
    "            n -= 1    \n",
    "else:\n",
    "    print(\"Enter Positive value!\")"
   ]
  },
  {
   "cell_type": "code",
   "execution_count": 31,
   "id": "af53b7af",
   "metadata": {},
   "outputs": [
    {
     "name": "stdout",
     "output_type": "stream",
     "text": [
      "Reverse value 5279\n"
     ]
    }
   ],
   "source": [
    "# Reverse the digits of a given integer using a while loop\n",
    " \n",
    "n = 9725\n",
    "reverse = 0\n",
    "\n",
    "while n > 0:\n",
    "    num = n % 10\n",
    "    reverse = (reverse * 10) + num\n",
    "    n = n // 10 \n",
    "    \n",
    "else:\n",
    "    print(f\"Reverse value {reverse}\")\n",
    " "
   ]
  }
 ],
 "metadata": {
  "kernelspec": {
   "display_name": "Python 3",
   "language": "python",
   "name": "python3"
  },
  "language_info": {
   "codemirror_mode": {
    "name": "ipython",
    "version": 3
   },
   "file_extension": ".py",
   "mimetype": "text/x-python",
   "name": "python",
   "nbconvert_exporter": "python",
   "pygments_lexer": "ipython3",
   "version": "3.13.4"
  }
 },
 "nbformat": 4,
 "nbformat_minor": 5
}
