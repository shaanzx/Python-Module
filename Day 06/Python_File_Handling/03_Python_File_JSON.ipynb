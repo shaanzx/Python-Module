{
 "cells": [
  {
   "cell_type": "code",
   "execution_count": 4,
   "id": "01776dda",
   "metadata": {},
   "outputs": [
    {
     "name": "stdout",
     "output_type": "stream",
     "text": [
      "{'name': 'John Doe', 'age': 30, 'isStudent': False, 'hobbies': ['reading', 'gardening', 'swimming']}\n",
      "<class 'dict'>\n"
     ]
    }
   ],
   "source": [
    "import json\n",
    "\n",
    "with open(\"../Files/test.json\", \"r\") as json_file:\n",
    "    data = json.load(json_file) \n",
    "    #Reads JSON data from a file and converts it into a Python object (like a dictionary or list).\n",
    "    print(data)\n",
    "    print(type(data))"
   ]
  },
  {
   "cell_type": "code",
   "execution_count": null,
   "id": "6b2d5d11",
   "metadata": {},
   "outputs": [],
   "source": [
    "import json\n",
    "\n",
    "data = {\n",
    "    \"name\" : \"Shan\",\n",
    "    \"Age\" : 25,\n",
    "    \"City\" : \"Badulla\"\n",
    "}\n",
    "\n",
    "with open(\"../Files/my_json.json\", \"w\") as json_file:\n",
    "    json.dump(data, json_file, indent=4)\n",
    "    # Takes a Python object and writes it as JSON data into a file.\n",
    "    "
   ]
  }
 ],
 "metadata": {
  "kernelspec": {
   "display_name": "Python 3",
   "language": "python",
   "name": "python3"
  },
  "language_info": {
   "codemirror_mode": {
    "name": "ipython",
    "version": 3
   },
   "file_extension": ".py",
   "mimetype": "text/x-python",
   "name": "python",
   "nbconvert_exporter": "python",
   "pygments_lexer": "ipython3",
   "version": "3.13.4"
  }
 },
 "nbformat": 4,
 "nbformat_minor": 5
}
