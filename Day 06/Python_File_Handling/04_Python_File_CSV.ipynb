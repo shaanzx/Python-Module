{
 "cells": [
  {
   "cell_type": "code",
   "execution_count": 9,
   "id": "f13d13c3",
   "metadata": {},
   "outputs": [
    {
     "name": "stdout",
     "output_type": "stream",
     "text": [
      "<class '_csv.reader'>\n",
      "['Name', 'Age', 'Occupation']\n",
      "['John Doe', '30', 'Engineer']\n",
      "['Jane Smith', '25', 'Teacher']\n",
      "['Bob Johnson', '40', 'Doctor']\n",
      "['Alice Brown', '35', 'Artist']\n"
     ]
    }
   ],
   "source": [
    "import csv\n",
    "\n",
    "with open(\"../Files/test.csv\", \"r\", newline='') as csv_file:\n",
    "    data = csv.reader(csv_file)\n",
    "    print(type(data))\n",
    "    for row in data:\n",
    "        print(row)"
   ]
  },
  {
   "cell_type": "code",
   "execution_count": 12,
   "id": "b4a8844c",
   "metadata": {},
   "outputs": [
    {
     "name": "stdout",
     "output_type": "stream",
     "text": [
      "{'Name': 'John Doe', 'Age': '30', 'Occupation': 'Engineer'}\n",
      "{'Name': 'Jane Smith', 'Age': '25', 'Occupation': 'Teacher'}\n",
      "{'Name': 'Bob Johnson', 'Age': '40', 'Occupation': 'Doctor'}\n",
      "{'Name': 'Alice Brown', 'Age': '35', 'Occupation': 'Artist'}\n"
     ]
    }
   ],
   "source": [
    "import csv\n",
    "\n",
    "with open(\"../Files/test.csv\", \"r\", newline='') as csv_file:\n",
    "    data = csv.DictReader(csv_file)\n",
    "    for row in data:\n",
    "        print(row)"
   ]
  }
 ],
 "metadata": {
  "kernelspec": {
   "display_name": "Python 3",
   "language": "python",
   "name": "python3"
  },
  "language_info": {
   "codemirror_mode": {
    "name": "ipython",
    "version": 3
   },
   "file_extension": ".py",
   "mimetype": "text/x-python",
   "name": "python",
   "nbconvert_exporter": "python",
   "pygments_lexer": "ipython3",
   "version": "3.13.4"
  }
 },
 "nbformat": 4,
 "nbformat_minor": 5
}
