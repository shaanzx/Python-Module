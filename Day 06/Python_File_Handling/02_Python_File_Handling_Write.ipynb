{
 "cells": [
  {
   "cell_type": "code",
   "execution_count": null,
   "id": "382073ea",
   "metadata": {},
   "outputs": [],
   "source": [
    "with open(\"../Files/my_file_1.txt\" , \"w\") as file:\n",
    "    file.write(\"This is awasome.\\n\")\n",
    "    file.write(\"Programme is fun.\\n\")\n"
   ]
  },
  {
   "cell_type": "code",
   "execution_count": null,
   "id": "f65f857f",
   "metadata": {},
   "outputs": [],
   "source": [
    "with open(\"../Files/my_file_1.txt\" , \"w\") as file:\n",
    "    file.write(\"Python is interprited laguage.\\n\")"
   ]
  },
  {
   "cell_type": "code",
   "execution_count": 17,
   "id": "887cb63c",
   "metadata": {},
   "outputs": [],
   "source": [
    "# Writelines()\n",
    "with open(\"../Files/my_file_1.txt\" , \"w\") as file:\n",
    "    lines = [\"Hi.. I'm shan jayawardhana\\n\",\"25 years old\\n\"]\n",
    "    file.writelines(lines)\n"
   ]
  },
  {
   "cell_type": "code",
   "execution_count": null,
   "id": "f867262f",
   "metadata": {},
   "outputs": [],
   "source": [
    "# Excercise\n",
    "with open(\"../Files/my_file_1.txt\" , \"a\") as file:\n",
    "    file.write(\"from badulla\\n\")"
   ]
  }
 ],
 "metadata": {
  "kernelspec": {
   "display_name": "Python 3",
   "language": "python",
   "name": "python3"
  },
  "language_info": {
   "codemirror_mode": {
    "name": "ipython",
    "version": 3
   },
   "file_extension": ".py",
   "mimetype": "text/x-python",
   "name": "python",
   "nbconvert_exporter": "python",
   "pygments_lexer": "ipython3",
   "version": "3.13.4"
  }
 },
 "nbformat": 4,
 "nbformat_minor": 5
}
