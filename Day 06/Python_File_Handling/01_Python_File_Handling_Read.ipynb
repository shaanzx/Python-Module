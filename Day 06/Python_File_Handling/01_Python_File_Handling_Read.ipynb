{
 "cells": [
  {
   "cell_type": "code",
   "execution_count": 2,
   "id": "9160ea68",
   "metadata": {},
   "outputs": [
    {
     "name": "stdout",
     "output_type": "stream",
     "text": [
      "Hi Guys! Hope everthing is good. I'm fine too.\n",
      "This is much better.\n",
      "This is even better.\n",
      "I love AI.\n"
     ]
    }
   ],
   "source": [
    "file_1 = open(\"../Files/my_file.txt\",\"r\")\n",
    "read_content = file_1.read()\n",
    "print(read_content)\n",
    "file_1.close()\n"
   ]
  },
  {
   "cell_type": "code",
   "execution_count": null,
   "id": "ed6c584d",
   "metadata": {},
   "outputs": [
    {
     "name": "stdout",
     "output_type": "stream",
     "text": [
      "Hi Guys! Hope everthing is good. I'm fine too.\n",
      "\n",
      "This is much better.\n",
      "\n",
      "This is even better.\n",
      "\n",
      "I love AI.\n",
      "\n"
     ]
    }
   ],
   "source": [
    "# Line by line\n",
    "\n",
    "file_1 = open(\"../Files/my_file.txt\",\"r\")\n",
    "line_1 = file_1.readline()\n",
    "print(line_1)\n",
    "line_2 = file_1.readline()\n",
    "print(line_2)\n",
    "line_3 = file_1.readline()\n",
    "print(line_3)\n",
    "line_4 = file_1.readline()\n",
    "print(line_4)\n",
    "line_5 = file_1.readline()\n",
    "print(line_5)\n",
    "file_1.close()"
   ]
  },
  {
   "cell_type": "code",
   "execution_count": null,
   "id": "eb760901",
   "metadata": {},
   "outputs": [
    {
     "name": "stdout",
     "output_type": "stream",
     "text": [
      "Hi Guys! Hope everthing is good. I'm fine too.\n",
      "This is much better.\n",
      "This is even better.\n",
      "I love AI.\n"
     ]
    }
   ],
   "source": [
    "file_1 = open(\"../Files/my_file.txt\",\"r\")\n",
    "while True:\n",
    "    line = file_1.readline()\n",
    "    if not line:\n",
    "        break\n",
    "    print(line.strip()) #Remove the newline character at the end of each line\n",
    "file_1.close()"
   ]
  },
  {
   "cell_type": "code",
   "execution_count": null,
   "id": "56168d91",
   "metadata": {},
   "outputs": [
    {
     "name": "stdout",
     "output_type": "stream",
     "text": [
      "[\"Hi Guys! Hope everthing is good. I'm fine too.\\n\", 'This is much better.\\n', 'This is even better.\\n', 'I love AI.']\n"
     ]
    }
   ],
   "source": [
    "# Using Readlines()\n",
    "file_1 = open(\"../Files/my_file.txt\",\"r\")\n",
    "lines = file_1.readlines()\n",
    "print(lines)\n",
    "file_1.close()\n"
   ]
  },
  {
   "cell_type": "code",
   "execution_count": null,
   "id": "65a37d42",
   "metadata": {},
   "outputs": [
    {
     "name": "stdout",
     "output_type": "stream",
     "text": [
      "Hi Guys! Hope everthing is good. I'm fine too.\n",
      "This is much better.\n",
      "This is even better.\n",
      "I love AI.\n"
     ]
    }
   ],
   "source": [
    "file_1 = open(\"../Files/my_file.txt\",\"r\")\n",
    "lines = file_1.readlines()\n",
    "for i in lines:\n",
    "    print(i.strip())\n",
    "file_1.close()"
   ]
  },
  {
   "cell_type": "code",
   "execution_count": 3,
   "id": "78a0a58d",
   "metadata": {},
   "outputs": [
    {
     "name": "stdout",
     "output_type": "stream",
     "text": [
      "Hi Guys! Hope everthing is good. I'm fine too.\n",
      "This is much better.\n",
      "This is even better.\n",
      "I love AI.\n"
     ]
    }
   ],
   "source": [
    "#  With Statement\n",
    "# No need for.close() as it's automatically handled.\n",
    "\n",
    "with open(\"../Files/my_file.txt\",\"r\") as file:\n",
    "    content = file.read()\n",
    "    print(content)"
   ]
  }
 ],
 "metadata": {
  "kernelspec": {
   "display_name": "Python 3",
   "language": "python",
   "name": "python3"
  },
  "language_info": {
   "codemirror_mode": {
    "name": "ipython",
    "version": 3
   },
   "file_extension": ".py",
   "mimetype": "text/x-python",
   "name": "python",
   "nbconvert_exporter": "python",
   "pygments_lexer": "ipython3",
   "version": "3.13.4"
  }
 },
 "nbformat": 4,
 "nbformat_minor": 5
}
