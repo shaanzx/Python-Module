{
 "cells": [
  {
   "cell_type": "code",
   "execution_count": null,
   "id": "6f577886",
   "metadata": {},
   "outputs": [
    {
     "name": "stdout",
     "output_type": "stream",
     "text": [
      "Shan\n",
      "Shan\n"
     ]
    }
   ],
   "source": [
    "# Protected Access Modifier\n",
    "class Person:\n",
    "    def __init__(self, name):\n",
    "        self._name = name\n",
    "        \n",
    "class Employee(Person):\n",
    "    def disply(self):\n",
    "        print(self._name)\n",
    "        # ✔ This is correct and recommended.We can acceess in this sub class\n",
    "        \n",
    "emp = Employee(\"Shan\")\n",
    "emp.disply()\n",
    "\n",
    "# ❌ This is allowed.But not recommended.\n",
    "print(emp._name)  "
   ]
  },
  {
   "cell_type": "code",
   "execution_count": 7,
   "id": "fa9712ea",
   "metadata": {},
   "outputs": [
    {
     "name": "stdout",
     "output_type": "stream",
     "text": [
      "Lakshan\n"
     ]
    }
   ],
   "source": [
    "# Private Access Modifier\n",
    "\n",
    "class Person:\n",
    "    def __init__(self, name):\n",
    "        self.__name = name\n",
    "        \n",
    "    def get_name(self):\n",
    "        return self.__name\n",
    "    \n",
    "p = Person(\"Lakshan\")\n",
    "print(f\"{p.get_name()}\")\n",
    " \n",
    "# Error below access \n",
    "# print(f\"{p.__name}\")"
   ]
  },
  {
   "cell_type": "code",
   "execution_count": 62,
   "id": "79af7c64",
   "metadata": {},
   "outputs": [
    {
     "name": "stdout",
     "output_type": "stream",
     "text": [
      "Account amount is less than withdraw amount.So you can't withdraw 5500.00\n",
      "Account holder :Lakshan account balance is 5000.0\n"
     ]
    }
   ],
   "source": [
    "#Excersice\n",
    "\n",
    "class BankAccount:\n",
    "    def __init__(self, account_number, owner_name):\n",
    "        self.__account_number = account_number\n",
    "        self.__owner_name = owner_name\n",
    "        self.__balance = 0.0\n",
    "        \n",
    "    def display_account(self):\n",
    "        print(f\"Account holder :{self.__owner_name} account balance is {self.__balance}\")\n",
    "        \n",
    "    def deposit(self, amount):\n",
    "        if self.__validate_amount(amount):\n",
    "            self.__balance += amount\n",
    "        else:\n",
    "            print(f\"Amount is not valid\")\n",
    "            \n",
    "    def withdraw(self, amount):\n",
    "        if self.__validate_amount(amount):\n",
    "            if self.__balance > amount:\n",
    "                self.__balance -= amount\n",
    "            else:\n",
    "                print(f\"Account amount is less than withdraw amount.So you can't withdraw {amount}.00\")\n",
    "        else:\n",
    "            print(f\"Not valid amount!\")\n",
    "        \n",
    "    def __validate_amount(self, amount):\n",
    "        return amount > 0\n",
    "        \n",
    "b = BankAccount(\"107080186104\",\"Lakshan\")\n",
    "b.deposit(5000)\n",
    "b.withdraw(5500)\n",
    "b.display_account()\n",
    "        "
   ]
  }
 ],
 "metadata": {
  "kernelspec": {
   "display_name": "Python 3",
   "language": "python",
   "name": "python3"
  },
  "language_info": {
   "codemirror_mode": {
    "name": "ipython",
    "version": 3
   },
   "file_extension": ".py",
   "mimetype": "text/x-python",
   "name": "python",
   "nbconvert_exporter": "python",
   "pygments_lexer": "ipython3",
   "version": "3.13.4"
  }
 },
 "nbformat": 4,
 "nbformat_minor": 5
}
