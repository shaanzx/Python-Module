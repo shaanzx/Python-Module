{
 "cells": [
  {
   "cell_type": "code",
   "execution_count": null,
   "id": "cb29c0b3",
   "metadata": {},
   "outputs": [
    {
     "name": "stdout",
     "output_type": "stream",
     "text": [
      "Animal Speak\n"
     ]
    }
   ],
   "source": [
    "# The method and attributes of the parent class are inherited to the child class.\n",
    "\n",
    "class Animal:  \n",
    "    def speak(self):\n",
    "        print(\"Animal Speak\")\n",
    "        \n",
    "class Parrot(Animal):\n",
    "    def display_info(self):\n",
    "        print(\"Something\")\n",
    "        \n",
    "parrot_1 = Parrot()\n",
    "parrot_1.speak()"
   ]
  },
  {
   "cell_type": "code",
   "execution_count": null,
   "id": "bfa9903f",
   "metadata": {},
   "outputs": [
    {
     "name": "stdout",
     "output_type": "stream",
     "text": [
      "Parrot Speak\n"
     ]
    }
   ],
   "source": [
    "# Methos override (Same method name and same parameters)\n",
    "\n",
    "class Animal:  \n",
    "    def speak(self):\n",
    "        print(\"Animal Speak\")\n",
    "        \n",
    "class Parrot(Animal):\n",
    "    def display_info(self):\n",
    "        print(\"Something\")\n",
    "        \n",
    "    def speak(self):\n",
    "        print(\"Parrot Speak\")\n",
    "        \n",
    "parrot_1 = Parrot()\n",
    "parrot_1.speak()"
   ]
  },
  {
   "cell_type": "code",
   "execution_count": null,
   "id": "965a229d",
   "metadata": {},
   "outputs": [
    {
     "name": "stdout",
     "output_type": "stream",
     "text": [
      "Parrot Speak\n"
     ]
    }
   ],
   "source": [
    "# Method Overload (Same method name but different parameters)\n",
    "\n",
    "class Animal:  \n",
    "    def speak(self):\n",
    "        print(\"Animal Speak\")\n",
    "        \n",
    "class Parrot(Animal):\n",
    "    def display_info(self):\n",
    "        print(\"Something\")\n",
    "        \n",
    "    def speak(self, animal):\n",
    "        print(f\"{animal} Speak\")\n",
    "        \n",
    "parrot_1 = Parrot()\n",
    "parrot_1.speak(\"Parrot\")"
   ]
  },
  {
   "cell_type": "code",
   "execution_count": null,
   "id": "6d12b7a0",
   "metadata": {},
   "outputs": [
    {
     "name": "stdout",
     "output_type": "stream",
     "text": [
      "Parrot Speak\n"
     ]
    }
   ],
   "source": [
    "# if sub class constructor is not defined, parent class constructor will be called.\n",
    "\n",
    "class Animal:\n",
    "    def __init__(self , name):\n",
    "        self.name = name\n",
    "        \n",
    "class Parrot(Animal):\n",
    "    def speak(self):\n",
    "        print(f\"{self.name} Speak\")\n",
    "        \n",
    "parrot = Parrot(\"Parrot\")\n",
    "parrot.speak()"
   ]
  },
  {
   "cell_type": "code",
   "execution_count": null,
   "id": "0217fcfe",
   "metadata": {},
   "outputs": [
    {
     "name": "stdout",
     "output_type": "stream",
     "text": [
      "Green color Parrot Speak\n"
     ]
    }
   ],
   "source": [
    "# In the subclass constructor, define only the additional parameters; initialize the superclass’s constructor parameters using `super()`.\n",
    "\n",
    "class Animal:\n",
    "    def __init__(self , name):\n",
    "        self.name = name\n",
    "        \n",
    "class Parrot(Animal):\n",
    "    def __init__(self, name, color):\n",
    "        self.color = color\n",
    "        super().__init__(name)\n",
    "        \n",
    "    def speak(self):\n",
    "        print(f\"{self.color} color {self.name} Speak\")\n",
    "        \n",
    "parrot = Parrot(\"Parrot\" , \"Green\")\n",
    "parrot.speak()"
   ]
  },
  {
   "cell_type": "code",
   "execution_count": 30,
   "id": "6d1a900e",
   "metadata": {},
   "outputs": [
    {
     "name": "stdout",
     "output_type": "stream",
     "text": [
      "Lakshan salary is 250000.00\n",
      "He is working IT department\n"
     ]
    }
   ],
   "source": [
    "# Excersice\n",
    "\n",
    "class Employee:\n",
    "    def __init__(self, name, salary):\n",
    "        self.name = name\n",
    "        self.salary = salary\n",
    "\n",
    "    def display_info(self):\n",
    "        print(f\"{self.name} salary is {self.salary}.00\")\n",
    "        \n",
    "class Manager(Employee):\n",
    "    def __init__(self, name, salary, department):\n",
    "        self.department = department\n",
    "        super().__init__(name, salary)\n",
    "        \n",
    "    def display_info(self):\n",
    "        super().display_info()\n",
    "        print(f\"He is working {self.department} department\")\n",
    "\n",
    "    \n",
    "manager_1 = Manager(\"Lakshan\", \"250000\",\"IT\")\n",
    "manager_1.display_info()\n"
   ]
  },
  {
   "cell_type": "code",
   "execution_count": null,
   "id": "adb38df7",
   "metadata": {},
   "outputs": [],
   "source": []
  }
 ],
 "metadata": {
  "kernelspec": {
   "display_name": "Python 3",
   "language": "python",
   "name": "python3"
  },
  "language_info": {
   "codemirror_mode": {
    "name": "ipython",
    "version": 3
   },
   "file_extension": ".py",
   "mimetype": "text/x-python",
   "name": "python",
   "nbconvert_exporter": "python",
   "pygments_lexer": "ipython3",
   "version": "3.13.4"
  }
 },
 "nbformat": 4,
 "nbformat_minor": 5
}
