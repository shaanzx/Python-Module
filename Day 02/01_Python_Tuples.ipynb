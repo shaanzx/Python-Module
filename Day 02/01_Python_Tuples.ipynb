{
 "cells": [
  {
   "cell_type": "code",
   "execution_count": null,
   "id": "42270959",
   "metadata": {},
   "outputs": [
    {
     "name": "stdout",
     "output_type": "stream",
     "text": [
      "('tennis', 'cricket', 'football')\n",
      "cricket\n"
     ]
    }
   ],
   "source": [
    "# Python Tuples\n",
    "sports = (\"tennis\", \"cricket\", \"football\")\n",
    "print(sports)\n",
    "print(sports[1])"
   ]
  },
  {
   "cell_type": "code",
   "execution_count": 2,
   "id": "21a709cc",
   "metadata": {},
   "outputs": [
    {
     "name": "stdout",
     "output_type": "stream",
     "text": [
      "3\n"
     ]
    }
   ],
   "source": [
    "sports = (\"tennis\", \"cricket\", \"football\")\n",
    "print(len(sports))"
   ]
  },
  {
   "cell_type": "code",
   "execution_count": null,
   "id": "159af871",
   "metadata": {},
   "outputs": [
    {
     "name": "stdout",
     "output_type": "stream",
     "text": [
      "<class 'str'>\n",
      "5\n",
      "<class 'tuple'>\n",
      "1\n"
     ]
    }
   ],
   "source": [
    "flowers = (\"roses\")\n",
    "print(type(flowers))\n",
    "print(len(flowers))\n",
    "\n",
    "flowers = (\"roses\",)\n",
    "print(type(flowers))\n",
    "print(len(flowers))"
   ]
  },
  {
   "cell_type": "code",
   "execution_count": null,
   "id": "af6dddda",
   "metadata": {},
   "outputs": [
    {
     "name": "stdout",
     "output_type": "stream",
     "text": [
      "(1, 'cricket', True)\n"
     ]
    }
   ],
   "source": [
    "sports = (1, \"cricket\", True)\n",
    "print(sports)"
   ]
  },
  {
   "cell_type": "code",
   "execution_count": 8,
   "id": "05c57c06",
   "metadata": {},
   "outputs": [
    {
     "name": "stdout",
     "output_type": "stream",
     "text": [
      "football\n"
     ]
    }
   ],
   "source": [
    "sports = (\"tennis\", \"cricket\", \"football\")\n",
    "print(sports[-1])"
   ]
  },
  {
   "cell_type": "code",
   "execution_count": 9,
   "id": "8c73c004",
   "metadata": {},
   "outputs": [
    {
     "name": "stdout",
     "output_type": "stream",
     "text": [
      "('cricket', 'football', 'vollyball', 'baseball')\n",
      "('football', 'vollyball', 'baseball')\n",
      "('tennis', 'cricket', 'football')\n"
     ]
    }
   ],
   "source": [
    "sports = (\"tennis\", \"cricket\", \"football\", \"vollyball\", \"baseball\")\n",
    "print(sports[1:6])\n",
    "print(sports[2:])\n",
    "print(sports[:3])"
   ]
  },
  {
   "cell_type": "code",
   "execution_count": null,
   "id": "47814add",
   "metadata": {},
   "outputs": [
    {
     "name": "stdout",
     "output_type": "stream",
     "text": [
      "<class 'list'> ['apple', 'banana', 'orange']\n",
      "<class 'tuple'> ('apple', 'grapes', 'orange')\n"
     ]
    }
   ],
   "source": [
    "# Update Tuples\n",
    "friuts = (\"apple\", \"banana\", \"orange\")\n",
    "x = list(friuts)\n",
    "print(type(x),x)\n",
    "\n",
    "\n",
    "x[1] = \"grapes\"\n",
    "friuts = tuple(x)\n",
    "print(type(friuts),friuts)"
   ]
  },
  {
   "cell_type": "code",
   "execution_count": 20,
   "id": "3ffd37c8",
   "metadata": {},
   "outputs": [
    {
     "name": "stdout",
     "output_type": "stream",
     "text": [
      "b\n",
      "True\n"
     ]
    }
   ],
   "source": [
    "# Nested Tuples\n",
    "nested_tuples = ((1,2,3),(\"a\",\"b\",\"c\"),(True,False))\n",
    "print(nested_tuples[1][1])\n",
    "print(nested_tuples[2][0])"
   ]
  },
  {
   "cell_type": "code",
   "execution_count": null,
   "id": "2d0675c9",
   "metadata": {},
   "outputs": [],
   "source": []
  }
 ],
 "metadata": {
  "kernelspec": {
   "display_name": "Python 3",
   "language": "python",
   "name": "python3"
  },
  "language_info": {
   "codemirror_mode": {
    "name": "ipython",
    "version": 3
   },
   "file_extension": ".py",
   "mimetype": "text/x-python",
   "name": "python",
   "nbconvert_exporter": "python",
   "pygments_lexer": "ipython3",
   "version": "3.13.4"
  }
 },
 "nbformat": 4,
 "nbformat_minor": 5
}
