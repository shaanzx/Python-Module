{
 "cells": [
  {
   "cell_type": "code",
   "execution_count": null,
   "id": "a2afe6b0",
   "metadata": {},
   "outputs": [],
   "source": [
    "# Membership Operators\n",
    "#in\n",
    "# not in"
   ]
  },
  {
   "cell_type": "code",
   "execution_count": 2,
   "id": "92746a26",
   "metadata": {},
   "outputs": [
    {
     "name": "stdout",
     "output_type": "stream",
     "text": [
      "Is this available 8: True \n",
      "Is this available 8: False \n"
     ]
    }
   ],
   "source": [
    "nums = [10, 8, 4, 3 ,2]\n",
    "print(f\"Is this available 8: {8 in nums} \")\n",
    "print(f\"Is this available 8: {8 not in nums} \")"
   ]
  }
 ],
 "metadata": {
  "kernelspec": {
   "display_name": "Python 3",
   "language": "python",
   "name": "python3"
  },
  "language_info": {
   "codemirror_mode": {
    "name": "ipython",
    "version": 3
   },
   "file_extension": ".py",
   "mimetype": "text/x-python",
   "name": "python",
   "nbconvert_exporter": "python",
   "pygments_lexer": "ipython3",
   "version": "3.13.4"
  }
 },
 "nbformat": 4,
 "nbformat_minor": 5
}
