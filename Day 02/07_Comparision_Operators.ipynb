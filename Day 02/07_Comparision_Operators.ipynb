{
 "cells": [
  {
   "cell_type": "code",
   "execution_count": 10,
   "id": "a4d83bae",
   "metadata": {},
   "outputs": [],
   "source": [
    "# Comparison Operators"
   ]
  },
  {
   "cell_type": "code",
   "execution_count": 11,
   "id": "493618c8",
   "metadata": {},
   "outputs": [
    {
     "name": "stdout",
     "output_type": "stream",
     "text": [
      "a == b : False\n"
     ]
    }
   ],
   "source": [
    "a ,b = 4, 5 \n",
    "print(f\"a == b : {a == b}\")"
   ]
  },
  {
   "cell_type": "code",
   "execution_count": 12,
   "id": "5cc413b7",
   "metadata": {},
   "outputs": [
    {
     "name": "stdout",
     "output_type": "stream",
     "text": [
      "a != b : True\n"
     ]
    }
   ],
   "source": [
    "a ,b = 4, 5 \n",
    "print(f\"a != b : {a != b}\")"
   ]
  },
  {
   "cell_type": "code",
   "execution_count": 13,
   "id": "9982122d",
   "metadata": {},
   "outputs": [
    {
     "name": "stdout",
     "output_type": "stream",
     "text": [
      "a < b : True\n"
     ]
    }
   ],
   "source": [
    "a ,b = 4, 5 \n",
    "print(f\"a < b : {a < b}\")"
   ]
  },
  {
   "cell_type": "code",
   "execution_count": 14,
   "id": "69ab6ae3",
   "metadata": {},
   "outputs": [
    {
     "name": "stdout",
     "output_type": "stream",
     "text": [
      "a > b : False\n"
     ]
    }
   ],
   "source": [
    "a ,b = 4, 5 \n",
    "print(f\"a > b : {a > b}\")"
   ]
  },
  {
   "cell_type": "code",
   "execution_count": 15,
   "id": "3763f290",
   "metadata": {},
   "outputs": [
    {
     "name": "stdout",
     "output_type": "stream",
     "text": [
      "a <= b : True\n"
     ]
    }
   ],
   "source": [
    "a ,b = 4, 5 \n",
    "print(f\"a <= b : {a <= b}\")"
   ]
  },
  {
   "cell_type": "code",
   "execution_count": 16,
   "id": "817a033f",
   "metadata": {},
   "outputs": [
    {
     "name": "stdout",
     "output_type": "stream",
     "text": [
      "a >= b : False\n"
     ]
    }
   ],
   "source": [
    "a ,b = 4, 5 \n",
    "print(f\"a >= b : {a >= b}\")"
   ]
  }
 ],
 "metadata": {
  "kernelspec": {
   "display_name": "Python 3",
   "language": "python",
   "name": "python3"
  },
  "language_info": {
   "codemirror_mode": {
    "name": "ipython",
    "version": 3
   },
   "file_extension": ".py",
   "mimetype": "text/x-python",
   "name": "python",
   "nbconvert_exporter": "python",
   "pygments_lexer": "ipython3",
   "version": "3.13.4"
  }
 },
 "nbformat": 4,
 "nbformat_minor": 5
}
