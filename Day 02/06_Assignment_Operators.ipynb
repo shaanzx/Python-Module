{
 "cells": [
  {
   "cell_type": "code",
   "execution_count": null,
   "id": "53e65c66",
   "metadata": {},
   "outputs": [],
   "source": [
    "# Assignmnet Operators"
   ]
  },
  {
   "cell_type": "code",
   "execution_count": null,
   "id": "bdf82737",
   "metadata": {},
   "outputs": [],
   "source": [
    "x = 5\n",
    "print(f\"x : {x}\")"
   ]
  },
  {
   "cell_type": "code",
   "execution_count": 3,
   "id": "9d1e8536",
   "metadata": {},
   "outputs": [
    {
     "name": "stdout",
     "output_type": "stream",
     "text": [
      "x += 3 : 8\n"
     ]
    }
   ],
   "source": [
    "x = 5\n",
    "x += 3\n",
    "print(f\"x += 3 : {x}\")"
   ]
  },
  {
   "cell_type": "code",
   "execution_count": null,
   "id": "92c7e53b",
   "metadata": {},
   "outputs": [
    {
     "name": "stdout",
     "output_type": "stream",
     "text": [
      "x += 3 : 2\n"
     ]
    }
   ],
   "source": [
    "x = 5\n",
    "x -= 3\n",
    "print(f\"x -= 3 : {x}\")"
   ]
  },
  {
   "cell_type": "code",
   "execution_count": 5,
   "id": "e3661a59",
   "metadata": {},
   "outputs": [
    {
     "name": "stdout",
     "output_type": "stream",
     "text": [
      "x *= 3 : 15\n"
     ]
    }
   ],
   "source": [
    "x = 5\n",
    "x *= 3\n",
    "print(f\"x *= 3 : {x}\")"
   ]
  }
 ],
 "metadata": {
  "kernelspec": {
   "display_name": "Python 3",
   "language": "python",
   "name": "python3"
  },
  "language_info": {
   "codemirror_mode": {
    "name": "ipython",
    "version": 3
   },
   "file_extension": ".py",
   "mimetype": "text/x-python",
   "name": "python",
   "nbconvert_exporter": "python",
   "pygments_lexer": "ipython3",
   "version": "3.13.4"
  }
 },
 "nbformat": 4,
 "nbformat_minor": 5
}
