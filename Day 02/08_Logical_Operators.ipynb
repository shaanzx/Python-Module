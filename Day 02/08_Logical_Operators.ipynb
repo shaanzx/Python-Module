{
 "cells": [
  {
   "cell_type": "code",
   "execution_count": null,
   "id": "9265a54f",
   "metadata": {},
   "outputs": [],
   "source": [
    "# Logical Operators"
   ]
  },
  {
   "cell_type": "code",
   "execution_count": null,
   "id": "8d4d917f",
   "metadata": {},
   "outputs": [],
   "source": [
    "# AND Operators Outputs\n",
    "# False + True  = False\n",
    "# True + False  = False\n",
    "# True + True  = True\n",
    "# False + False  = False\n"
   ]
  },
  {
   "cell_type": "code",
   "execution_count": 8,
   "id": "1644ca5f",
   "metadata": {},
   "outputs": [
    {
     "name": "stdout",
     "output_type": "stream",
     "text": [
      "x > 1 and y < 10 : True\n",
      "x < 1 and y < 10 : False\n",
      "x > 1 and y > 10 : False\n",
      "x < 1 and y > 10 : False\n"
     ]
    }
   ],
   "source": [
    "x , y = 5 , 6\n",
    "print(f\"x > 1 and y < 10 : {x > 1 and y < 10}\")\n",
    "print(f\"x < 1 and y < 10 : {x < 1 and y < 10}\")\n",
    "print(f\"x > 1 and y > 10 : {x > 1 and y > 10}\")\n",
    "print(f\"x < 1 and y > 10 : {x < 1 and y > 10}\")\n",
    "\n"
   ]
  },
  {
   "cell_type": "code",
   "execution_count": null,
   "id": "0c5ae0d6",
   "metadata": {},
   "outputs": [],
   "source": [
    "# OR Operators Outputs\n",
    "\n",
    "# False + True  = True\n",
    "# True + False  = True\n",
    "# True + True  = True\n",
    "# False + False  = False"
   ]
  },
  {
   "cell_type": "code",
   "execution_count": null,
   "id": "05c97c1a",
   "metadata": {},
   "outputs": [
    {
     "name": "stdout",
     "output_type": "stream",
     "text": [
      "x > 1 or y < 10 : True\n",
      "x < 1 or y < 10 : True\n",
      "x > 1 or y > 10 : True\n",
      "x < 1 or y > 10 : False\n"
     ]
    }
   ],
   "source": [
    "x , y = 5 , 6\n",
    "print(f\"x > 1 or y < 10 : {x > 1 or y < 10}\")\n",
    "print(f\"x < 1 or y < 10 : {x < 1 or y < 10}\")\n",
    "print(f\"x > 1 or y > 10 : {x > 1 or y > 10}\")\n",
    "print(f\"x < 1 or y > 10 : {x < 1 or y > 10}\")\n",
    "\n"
   ]
  },
  {
   "cell_type": "code",
   "execution_count": null,
   "id": "4bf990e2",
   "metadata": {},
   "outputs": [],
   "source": [
    "# NOT Operators Outputs\n",
    "\n",
    "# False = True\n",
    "# True = False"
   ]
  },
  {
   "cell_type": "code",
   "execution_count": 14,
   "id": "a76e94d5",
   "metadata": {},
   "outputs": [
    {
     "name": "stdout",
     "output_type": "stream",
     "text": [
      "x > 1 : True\n",
      "not x > 1 : False\n",
      "x < 1 : False\n",
      "not x < 1 : True\n"
     ]
    }
   ],
   "source": [
    "x , y = 5 , 6\n",
    "print(f\"x > 1 : {x > 1}\")\n",
    "print(f\"not x > 1 : { not x > 1}\")\n",
    "\n",
    "print(f\"x < 1 : {x < 1}\")\n",
    "print(f\"not x < 1 : { not x < 1}\")\n"
   ]
  },
  {
   "cell_type": "code",
   "execution_count": null,
   "id": "00ec59bf",
   "metadata": {},
   "outputs": [],
   "source": [
    "# Excersice\n",
    "\n"
   ]
  }
 ],
 "metadata": {
  "kernelspec": {
   "display_name": "Python 3",
   "language": "python",
   "name": "python3"
  },
  "language_info": {
   "codemirror_mode": {
    "name": "ipython",
    "version": 3
   },
   "file_extension": ".py",
   "mimetype": "text/x-python",
   "name": "python",
   "nbconvert_exporter": "python",
   "pygments_lexer": "ipython3",
   "version": "3.13.4"
  }
 },
 "nbformat": 4,
 "nbformat_minor": 5
}
