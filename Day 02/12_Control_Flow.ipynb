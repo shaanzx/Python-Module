{
 "cells": [
  {
   "cell_type": "code",
   "execution_count": null,
   "id": "02865dc4",
   "metadata": {},
   "outputs": [],
   "source": [
    "#  Control flow Statement"
   ]
  },
  {
   "cell_type": "code",
   "execution_count": 6,
   "id": "bb93fa88",
   "metadata": {},
   "outputs": [
    {
     "name": "stdout",
     "output_type": "stream",
     "text": [
      "This is even number\n"
     ]
    }
   ],
   "source": [
    "# If  Statement\n",
    "\n",
    "x = 10\n",
    "\n",
    "if (x % 2 == 0): \n",
    "    print(\"This is even number\")"
   ]
  },
  {
   "cell_type": "code",
   "execution_count": 5,
   "id": "a7153c28",
   "metadata": {},
   "outputs": [
    {
     "name": "stdout",
     "output_type": "stream",
     "text": [
      "This is odd number\n"
     ]
    }
   ],
   "source": [
    "# If : else Statement\n",
    "\n",
    "x = 11\n",
    "\n",
    "if (x % 2 == 0): \n",
    "    print(\"This is even number\")\n",
    "else:\n",
    "    print(\"This is odd number\")"
   ]
  },
  {
   "cell_type": "code",
   "execution_count": 14,
   "id": "128019c4",
   "metadata": {},
   "outputs": [
    {
     "name": "stdout",
     "output_type": "stream",
     "text": [
      "Non empty list\n"
     ]
    }
   ],
   "source": [
    "# Excersice\n",
    "\n",
    "friuts = [\"mango\"]\n",
    "\n",
    "if len(friuts) == 0:\n",
    "    print(\"Empty list\")\n",
    "else:\n",
    "    print(\"Non empty list\")"
   ]
  },
  {
   "cell_type": "code",
   "execution_count": 13,
   "id": "dfbaff9f",
   "metadata": {},
   "outputs": [
    {
     "name": "stdout",
     "output_type": "stream",
     "text": [
      "Non Empty list\n"
     ]
    }
   ],
   "source": [
    "# Excersice\n",
    "\n",
    "friuts = [\"mango\"]\n",
    "\n",
    "if friuts:\n",
    "    print(\"Non Empty list\")\n",
    "else:\n",
    "    print(\"Empty list\")"
   ]
  },
  {
   "cell_type": "code",
   "execution_count": null,
   "id": "ab68905d",
   "metadata": {},
   "outputs": [
    {
     "name": "stdout",
     "output_type": "stream",
     "text": [
      "Circumference is 43.9586\n"
     ]
    }
   ],
   "source": [
    "# Q2\n",
    "\n",
    "PI_VALUE = 3.14\n",
    "radius = 7\n",
    "\n",
    "if(radius <= 0) :\n",
    "    print(\"Should be positive value\")\n",
    "else:\n",
    "    circumference = 2 * PI_VALUE * radius\n",
    "    print(f\"Circumference is {circumference}\")"
   ]
  },
  {
   "cell_type": "code",
   "execution_count": 44,
   "id": "e51018aa",
   "metadata": {},
   "outputs": [
    {
     "name": "stdout",
     "output_type": "stream",
     "text": [
      "Hypotenuse is : 13.0\n"
     ]
    }
   ],
   "source": [
    "# Q3\n",
    "\n",
    "input_1 = 5\n",
    "input_2 = 12\n",
    "\n",
    "if input_1 <=0 or input_2 <= 0 :\n",
    "    print(\"Input Valid number\")\n",
    "else:\n",
    "    hypotenuse = (input_1 ** 2 + input_2 ** 2) **0.5\n",
    "    print(f\"Hypotenuse is : {hypotenuse}\")"
   ]
  }
 ],
 "metadata": {
  "kernelspec": {
   "display_name": "Python 3",
   "language": "python",
   "name": "python3"
  },
  "language_info": {
   "codemirror_mode": {
    "name": "ipython",
    "version": 3
   },
   "file_extension": ".py",
   "mimetype": "text/x-python",
   "name": "python",
   "nbconvert_exporter": "python",
   "pygments_lexer": "ipython3",
   "version": "3.13.4"
  }
 },
 "nbformat": 4,
 "nbformat_minor": 5
}
