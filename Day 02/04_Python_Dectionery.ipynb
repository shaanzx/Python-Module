{
 "cells": [
  {
   "cell_type": "code",
   "execution_count": null,
   "id": "48c52268",
   "metadata": {},
   "outputs": [],
   "source": [
    "# Python Dictonery"
   ]
  },
  {
   "cell_type": "code",
   "execution_count": null,
   "id": "98cf3a03",
   "metadata": {},
   "outputs": [
    {
     "name": "stdout",
     "output_type": "stream",
     "text": [
      "<class 'dict'> {'name': 'sugar', 'weight': '1kg', 'price': 250.5}\n"
     ]
    }
   ],
   "source": [
    "this_dict = {\n",
    "    \"name\" : \"sugar\",\n",
    "    \"weight\" : \"1kg\",\n",
    "    \"price\" : 130.35\n",
    "}\n",
    "\n",
    "print(type(this_dict),this_dict)\n"
   ]
  }
 ],
 "metadata": {
  "kernelspec": {
   "display_name": "Python 3",
   "language": "python",
   "name": "python3"
  },
  "language_info": {
   "codemirror_mode": {
    "name": "ipython",
    "version": 3
   },
   "file_extension": ".py",
   "mimetype": "text/x-python",
   "name": "python",
   "nbconvert_exporter": "python",
   "pygments_lexer": "ipython3",
   "version": "3.13.4"
  }
 },
 "nbformat": 4,
 "nbformat_minor": 5
}
