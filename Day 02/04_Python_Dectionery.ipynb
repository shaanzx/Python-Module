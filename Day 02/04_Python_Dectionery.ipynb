{
 "cells": [
  {
   "cell_type": "code",
   "execution_count": 26,
   "id": "48c52268",
   "metadata": {},
   "outputs": [],
   "source": [
    "# Python Dictonery"
   ]
  },
  {
   "cell_type": "code",
   "execution_count": 27,
   "id": "98cf3a03",
   "metadata": {},
   "outputs": [
    {
     "name": "stdout",
     "output_type": "stream",
     "text": [
      "<class 'dict'> {'name': 'sugar', 'weight': '1kg', 'price': 130.35}\n"
     ]
    }
   ],
   "source": [
    "this_dict = {\n",
    "    \"name\" : \"sugar\",\n",
    "    \"weight\" : \"1kg\",\n",
    "    \"price\" : 130.35\n",
    "}\n",
    "\n",
    "print(type(this_dict),this_dict)\n"
   ]
  },
  {
   "cell_type": "code",
   "execution_count": 28,
   "id": "4d78cd48",
   "metadata": {},
   "outputs": [
    {
     "name": "stdout",
     "output_type": "stream",
     "text": [
      "<class 'dict'> {'name': 'sugar', 'weight': '1kg', 'price': 150.0}\n"
     ]
    }
   ],
   "source": [
    "# Duplicated value not allowed. First value override from second value\n",
    "this_dict = {\n",
    "    \"name\" : \"sugar\",\n",
    "    \"weight\" : \"1kg\",\n",
    "    \"price\" : 130.35,\n",
    "    \"price\" : 150.00\n",
    "}\n",
    "\n",
    "print(type(this_dict),this_dict)"
   ]
  },
  {
   "cell_type": "code",
   "execution_count": 29,
   "id": "5f4f50ca",
   "metadata": {},
   "outputs": [
    {
     "name": "stdout",
     "output_type": "stream",
     "text": [
      "Value accessing: sugar\n",
      "Value accessing: 1kg\n"
     ]
    }
   ],
   "source": [
    "# Value Accesing\n",
    "this_dict = {\n",
    "    \"name\" : \"sugar\",\n",
    "    \"weight\" : \"1kg\",\n",
    "    \"price\" : 130.35\n",
    "}\n",
    "\n",
    "# Throught basically using []\n",
    "print(f\"Value accessing: {this_dict[\"name\"]}\")\n",
    "\n",
    "# Throught get()\n",
    "print(f\"Value accessing: {this_dict.get(\"weight\")}\")"
   ]
  },
  {
   "cell_type": "code",
   "execution_count": 30,
   "id": "8199a14e",
   "metadata": {},
   "outputs": [
    {
     "name": "stdout",
     "output_type": "stream",
     "text": [
      "length: 3\n"
     ]
    }
   ],
   "source": [
    "# No of Items - lenth\n",
    "this_dict = {\n",
    "    \"name\" : \"sugar\",\n",
    "    \"weight\" : \"1kg\",\n",
    "    \"price\" : 130.35\n",
    "}\n",
    "\n",
    "print(f\"length: {len(this_dict)}\")"
   ]
  },
  {
   "cell_type": "code",
   "execution_count": 31,
   "id": "dfc65a28",
   "metadata": {},
   "outputs": [
    {
     "name": "stdout",
     "output_type": "stream",
     "text": [
      "Updated Item: {'name': 'sugar', 'weight': '1kg', 'price': 150.0}\n"
     ]
    }
   ],
   "source": [
    "# Values Update\n",
    "this_dict = {\n",
    "    \"name\" : \"sugar\",\n",
    "    \"weight\" : \"1kg\",\n",
    "    \"price\" : 130.35\n",
    "}\n",
    "\n",
    "this_dict[\"price\"] = 150.00\n",
    "\n",
    "print(f\"Updated Item: {this_dict}\")"
   ]
  },
  {
   "cell_type": "code",
   "execution_count": 32,
   "id": "603b9dd7",
   "metadata": {},
   "outputs": [
    {
     "name": "stdout",
     "output_type": "stream",
     "text": [
      "New Values: {'name': 'sugar', 'weight': '1kg', 'price': 130.35, 'color': 'brown'}\n"
     ]
    }
   ],
   "source": [
    "# Add new value\n",
    "this_dict = {\n",
    "    \"name\" : \"sugar\",\n",
    "    \"weight\" : \"1kg\",\n",
    "    \"price\" : 130.35\n",
    "}\n",
    "\n",
    "this_dict[\"color\"] = \"brown\"\n",
    "\n",
    "print(f\"New Values: {this_dict}\")"
   ]
  },
  {
   "cell_type": "code",
   "execution_count": 33,
   "id": "b0005250",
   "metadata": {},
   "outputs": [
    {
     "name": "stdout",
     "output_type": "stream",
     "text": [
      "New Value: {'name': 'sugar', 'weight': '1kg', 'price': 120.0, 'exp_date': '25th Jan 2027'}\n"
     ]
    }
   ],
   "source": [
    "# Add new value Set\n",
    "\n",
    "this_dict = {\n",
    "    \"name\" : \"sugar\",\n",
    "    \"weight\" : \"1kg\",\n",
    "    \"price\" : 130.35\n",
    "}\n",
    "\n",
    "this_dict.update(\n",
    "    {\n",
    "        \"exp_date\" : \"25th Jan 2027\",\n",
    "        \"price\" : 120.00\n",
    "    }\n",
    ")\n",
    "\n",
    "print(f\"New Value: {this_dict}\")"
   ]
  },
  {
   "cell_type": "code",
   "execution_count": 34,
   "id": "41a411de",
   "metadata": {},
   "outputs": [
    {
     "name": "stdout",
     "output_type": "stream",
     "text": [
      "Remove After Item: {'name': 'sugar', 'weight': '1kg'}\n"
     ]
    }
   ],
   "source": [
    "# Remove Item using pop()\n",
    "\n",
    "this_dict = {\n",
    "    \"name\" : \"sugar\",\n",
    "    \"weight\" : \"1kg\",\n",
    "    \"price\" : 130.35\n",
    "}\n",
    "\n",
    "this_dict.pop(\"price\")\n",
    "\n",
    "print(f\"Remove After Item: {this_dict}\")"
   ]
  },
  {
   "cell_type": "code",
   "execution_count": 35,
   "id": "42a08da1",
   "metadata": {},
   "outputs": [
    {
     "name": "stdout",
     "output_type": "stream",
     "text": [
      "Remove After Item: {'name': 'sugar', 'weight': '1kg'}\n"
     ]
    }
   ],
   "source": [
    "# Remove item Using popItem()\n",
    "\n",
    "this_dict = {\n",
    "    \"name\" : \"sugar\",\n",
    "    \"weight\" : \"1kg\",\n",
    "    \"price\" : 130.35\n",
    "}\n",
    "\n",
    "this_dict.popitem()\n",
    "print(f\"Remove After Item: {this_dict}\")"
   ]
  },
  {
   "cell_type": "code",
   "execution_count": 42,
   "id": "540a895b",
   "metadata": {},
   "outputs": [
    {
     "name": "stdout",
     "output_type": "stream",
     "text": [
      "Delete after value: {'weight': '1kg', 'price': 130.35}\n"
     ]
    },
    {
     "ename": "NameError",
     "evalue": "name 'this_dict' is not defined",
     "output_type": "error",
     "traceback": [
      "\u001b[31m---------------------------------------------------------------------------\u001b[39m",
      "\u001b[31mNameError\u001b[39m                                 Traceback (most recent call last)",
      "\u001b[36mCell\u001b[39m\u001b[36m \u001b[39m\u001b[32mIn[42]\u001b[39m\u001b[32m, line 12\u001b[39m\n\u001b[32m      8\u001b[39m \u001b[38;5;28mprint\u001b[39m(\u001b[33mf\u001b[39m\u001b[33m\"\u001b[39m\u001b[33mDelete after value: \u001b[39m\u001b[38;5;132;01m{\u001b[39;00mthis_dict\u001b[38;5;132;01m}\u001b[39;00m\u001b[33m\"\u001b[39m)\n\u001b[32m     10\u001b[39m \u001b[38;5;28;01mdel\u001b[39;00m this_dict\n\u001b[32m---> \u001b[39m\u001b[32m12\u001b[39m \u001b[38;5;28mprint\u001b[39m(\u001b[38;5;28mlen\u001b[39m(\u001b[43mthis_dict\u001b[49m))\n\u001b[32m     13\u001b[39m \u001b[38;5;28mprint\u001b[39m(this_dict)\n",
      "\u001b[31mNameError\u001b[39m: name 'this_dict' is not defined"
     ]
    }
   ],
   "source": [
    "this_dict = {\n",
    "    \"name\" : \"sugar\",\n",
    "    \"weight\" : \"1kg\",\n",
    "    \"price\" : 130.35\n",
    "}\n",
    "\n",
    "del this_dict[\"name\"]\n",
    "print(f\"Delete after value: {this_dict}\")\n",
    "\n",
    "del this_dict\n",
    "\n",
    "print(len(this_dict))\n",
    "print(this_dict)\n"
   ]
  },
  {
   "cell_type": "code",
   "execution_count": null,
   "id": "79dc0df8",
   "metadata": {},
   "outputs": [
    {
     "name": "stdout",
     "output_type": "stream",
     "text": [
      "{}\n"
     ]
    }
   ],
   "source": [
    "# Clear \n",
    "\n",
    "this_dict = {\n",
    "    \"name\" : \"sugar\",\n",
    "    \"weight\" : \"1kg\",\n",
    "    \"price\" : 130.35\n",
    "}\n",
    "\n",
    "this_dict.clear()\n",
    "\n",
    "print(this_dict)"
   ]
  },
  {
   "cell_type": "code",
   "execution_count": null,
   "id": "bc6bad63",
   "metadata": {},
   "outputs": [
    {
     "name": "stdout",
     "output_type": "stream",
     "text": [
      "Old value: {'name': 'sugar', 'weight': '1kg', 'price': 130.35}\n",
      "Copied Value: {'name': 'sugar', 'weight': '1kg', 'price': 130.35}\n",
      "Chaged value: {'name': 'rice', 'weight': '1kg', 'price': 130.35}\n"
     ]
    }
   ],
   "source": [
    "# Value copy to new Dictonry using copy()\n",
    "\n",
    "my_dic = {\n",
    "    \"name\" : \"sugar\",\n",
    "    \"weight\" : \"1kg\",\n",
    "    \"price\" : 130.35\n",
    "}\n",
    "\n",
    "print(f\"Old value: {my_dic}\")\n",
    "\n",
    "new_dic = my_dic.copy()\n",
    "\n",
    "my_dic[\"name\"] = \"rice\"\n",
    "\n",
    "print(f\"Copied Value: {new_dic}\")\n",
    "print(f\"Chaged value: {my_dic}\")\n",
    "\n"
   ]
  },
  {
   "cell_type": "code",
   "execution_count": 50,
   "id": "758cbbc3",
   "metadata": {},
   "outputs": [
    {
     "name": "stdout",
     "output_type": "stream",
     "text": [
      "{'name': 'john', 'age': 30, 'is_student': True, 'grades': [85, 92, 78], 'cordinators': (12.34, 56.78), 'preferences': {'color': 'blue', 'food': 'pizza'}}\n"
     ]
    }
   ],
   "source": [
    "# Dictionery  can be add all values types\n",
    "\n",
    "my_dic = {\n",
    "    \"name\" : \"john\",\n",
    "    \"age\" : 30,\n",
    "    \"is_student\" : True,\n",
    "    \"grades\" : [85, 92, 78],\n",
    "    \"cordinators\" : (12.34, 56.78),\n",
    "    \"preferences\" : {\n",
    "        \"color\" : \"blue\",\n",
    "        \"food\" : \"pizza\"\n",
    "        }\n",
    "}\n",
    "\n",
    "print(my_dic)"
   ]
  },
  {
   "cell_type": "code",
   "execution_count": null,
   "id": "651db424",
   "metadata": {},
   "outputs": [],
   "source": [
    "# Dictonery Key rules"
   ]
  },
  {
   "cell_type": "code",
   "execution_count": 55,
   "id": "c49e51db",
   "metadata": {},
   "outputs": [
    {
     "ename": "TypeError",
     "evalue": "unhashable type: 'list'",
     "output_type": "error",
     "traceback": [
      "\u001b[31m---------------------------------------------------------------------------\u001b[39m",
      "\u001b[31mTypeError\u001b[39m                                 Traceback (most recent call last)",
      "\u001b[36mCell\u001b[39m\u001b[36m \u001b[39m\u001b[32mIn[55]\u001b[39m\u001b[32m, line 3\u001b[39m\n\u001b[32m      1\u001b[39m \u001b[38;5;66;03m# keys must be immutable (Can add String,Integer, Float, Tuples/ Can't List, Set, Dictonery)\u001b[39;00m\n\u001b[32m----> \u001b[39m\u001b[32m3\u001b[39m my_dic = {\n\u001b[32m      4\u001b[39m     \u001b[33m\"\u001b[39m\u001b[33mname\u001b[39m\u001b[33m\"\u001b[39m : \u001b[33m\"\u001b[39m\u001b[33mstring\u001b[39m\u001b[33m\"\u001b[39m,\n\u001b[32m      5\u001b[39m     \u001b[32m1\u001b[39m : \u001b[33m\"\u001b[39m\u001b[33minteger\u001b[39m\u001b[33m\"\u001b[39m,\n\u001b[32m      6\u001b[39m     \u001b[32m10.5\u001b[39m : \u001b[33m\"\u001b[39m\u001b[33mfloat\u001b[39m\u001b[33m\"\u001b[39m,\n\u001b[32m      7\u001b[39m     (\u001b[33m\"\u001b[39m\u001b[33mcricket\u001b[39m\u001b[33m\"\u001b[39m, \u001b[33m\"\u001b[39m\u001b[33mfootball\u001b[39m\u001b[33m\"\u001b[39m) : \u001b[33m\"\u001b[39m\u001b[33mTupes\u001b[39m\u001b[33m\"\u001b[39m,\n\u001b[32m      8\u001b[39m     [\u001b[33m\"\u001b[39m\u001b[33mcricket\u001b[39m\u001b[33m\"\u001b[39m, \u001b[33m\"\u001b[39m\u001b[33mfootball\u001b[39m\u001b[33m\"\u001b[39m] : \u001b[33m\"\u001b[39m\u001b[33mList\u001b[39m\u001b[33m\"\u001b[39m,\n\u001b[32m      9\u001b[39m     {\u001b[33m\"\u001b[39m\u001b[33mcricket\u001b[39m\u001b[33m\"\u001b[39m, \u001b[33m\"\u001b[39m\u001b[33mfootball\u001b[39m\u001b[33m\"\u001b[39m} : \u001b[33m\"\u001b[39m\u001b[33mSet\u001b[39m\u001b[33m\"\u001b[39m,\n\u001b[32m     10\u001b[39m     {\u001b[33m\"\u001b[39m\u001b[33mcricket\u001b[39m\u001b[33m\"\u001b[39m : \u001b[33m\"\u001b[39m\u001b[33mfootball\u001b[39m\u001b[33m\"\u001b[39m} : \u001b[33m\"\u001b[39m\u001b[33mDictonery\u001b[39m\u001b[33m\"\u001b[39m\n\u001b[32m     11\u001b[39m }\n\u001b[32m     13\u001b[39m \u001b[38;5;28mprint\u001b[39m(my_dic)\n",
      "\u001b[31mTypeError\u001b[39m: unhashable type: 'list'"
     ]
    }
   ],
   "source": [
    "# keys must be immutable (Can add String,Integer, Float, Tuples/ Can't List, Set, Dictonery)\n",
    "\n",
    "my_dic = {\n",
    "    \"name\" : \"string\",\n",
    "    1 : \"integer\",\n",
    "    10.5 : \"float\",\n",
    "    (\"cricket\", \"football\") : \"Tupes\",\n",
    "    [\"cricket\", \"football\"] : \"List\",\n",
    "    {\"cricket\", \"football\"} : \"Set\",\n",
    "    {\"cricket\" : \"football\"} : \"Dictonery\"\n",
    "}\n",
    "\n",
    "print(my_dic)\n"
   ]
  }
 ],
 "metadata": {
  "kernelspec": {
   "display_name": "Python 3",
   "language": "python",
   "name": "python3"
  },
  "language_info": {
   "codemirror_mode": {
    "name": "ipython",
    "version": 3
   },
   "file_extension": ".py",
   "mimetype": "text/x-python",
   "name": "python",
   "nbconvert_exporter": "python",
   "pygments_lexer": "ipython3",
   "version": "3.13.4"
  }
 },
 "nbformat": 4,
 "nbformat_minor": 5
}
