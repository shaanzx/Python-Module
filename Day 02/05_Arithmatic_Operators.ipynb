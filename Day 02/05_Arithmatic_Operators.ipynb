{
 "cells": [
  {
   "cell_type": "code",
   "execution_count": 5,
   "id": "eac1c0ce",
   "metadata": {},
   "outputs": [],
   "source": [
    "# Arithmatic Operators"
   ]
  },
  {
   "cell_type": "code",
   "execution_count": 12,
   "id": "1b48f897",
   "metadata": {},
   "outputs": [
    {
     "name": "stdout",
     "output_type": "stream",
     "text": [
      "x + y : 10\n"
     ]
    }
   ],
   "source": [
    "# Addition\n",
    "\n",
    "x , y = 7,3\n",
    "print(f\"x + y : {x + y}\")"
   ]
  },
  {
   "cell_type": "code",
   "execution_count": 13,
   "id": "dbe07cc4",
   "metadata": {},
   "outputs": [
    {
     "name": "stdout",
     "output_type": "stream",
     "text": [
      "x - y : 4\n"
     ]
    }
   ],
   "source": [
    "# Subtraction\n",
    "\n",
    "x , y = 7,3\n",
    "print(f\"x - y : {x - y}\")"
   ]
  },
  {
   "cell_type": "code",
   "execution_count": 14,
   "id": "b7f9abf5",
   "metadata": {},
   "outputs": [
    {
     "name": "stdout",
     "output_type": "stream",
     "text": [
      "x * y : 21\n"
     ]
    }
   ],
   "source": [
    "# Multiplication\n",
    "\n",
    "x , y = 7,3\n",
    "print(f\"x * y : {x * y}\")"
   ]
  },
  {
   "cell_type": "code",
   "execution_count": 15,
   "id": "878f9ec5",
   "metadata": {},
   "outputs": [
    {
     "name": "stdout",
     "output_type": "stream",
     "text": [
      "x ** y : 343\n"
     ]
    }
   ],
   "source": [
    "# Exponention\n",
    "\n",
    "x , y = 7,3\n",
    "print(f\"x ** y : {x ** y}\")"
   ]
  },
  {
   "cell_type": "code",
   "execution_count": 16,
   "id": "4511fd46",
   "metadata": {},
   "outputs": [
    {
     "name": "stdout",
     "output_type": "stream",
     "text": [
      "x / y : 2.3333333333333335\n"
     ]
    }
   ],
   "source": [
    "# Division\n",
    "\n",
    "x , y = 7,3\n",
    "print(f\"x / y : {x / y}\")"
   ]
  },
  {
   "cell_type": "code",
   "execution_count": 17,
   "id": "edd785c4",
   "metadata": {},
   "outputs": [
    {
     "name": "stdout",
     "output_type": "stream",
     "text": [
      "x // y : 2\n"
     ]
    }
   ],
   "source": [
    "# Floor Division\n",
    "\n",
    "x , y = 7,3\n",
    "print(f\"x // y : {x // y}\")"
   ]
  },
  {
   "cell_type": "code",
   "execution_count": 18,
   "id": "b80c66a7",
   "metadata": {},
   "outputs": [
    {
     "name": "stdout",
     "output_type": "stream",
     "text": [
      "x % y : 1\n"
     ]
    }
   ],
   "source": [
    "# Modulers\n",
    "\n",
    "x , y = 7 , 3\n",
    "print(f\"x % y : {x % y}\")"
   ]
  },
  {
   "cell_type": "code",
   "execution_count": null,
   "id": "bc74d862",
   "metadata": {},
   "outputs": [],
   "source": []
  }
 ],
 "metadata": {
  "kernelspec": {
   "display_name": "Python 3",
   "language": "python",
   "name": "python3"
  },
  "language_info": {
   "codemirror_mode": {
    "name": "ipython",
    "version": 3
   },
   "file_extension": ".py",
   "mimetype": "text/x-python",
   "name": "python",
   "nbconvert_exporter": "python",
   "pygments_lexer": "ipython3",
   "version": "3.13.4"
  }
 },
 "nbformat": 4,
 "nbformat_minor": 5
}
