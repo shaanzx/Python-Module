{
 "cells": [
  {
   "cell_type": "code",
   "execution_count": null,
   "id": "d69b4079",
   "metadata": {},
   "outputs": [],
   "source": [
    "# Identity Operators\n",
    "# is\n",
    "# is not"
   ]
  },
  {
   "cell_type": "code",
   "execution_count": 5,
   "id": "1536c10d",
   "metadata": {},
   "outputs": [
    {
     "name": "stdout",
     "output_type": "stream",
     "text": [
      "x and y memory location : False\n"
     ]
    }
   ],
   "source": [
    "x , y = 5 , 6\n",
    "print(f\"x and y memory location : {x is y}\")"
   ]
  },
  {
   "cell_type": "code",
   "execution_count": 14,
   "id": "2c6beede",
   "metadata": {},
   "outputs": [
    {
     "name": "stdout",
     "output_type": "stream",
     "text": [
      "x and y memory location : True\n",
      "x and y memory location : False\n"
     ]
    }
   ],
   "source": [
    "x = 5\n",
    "y = x\n",
    "print(f\"x and y memory location : {x is y}\")\n",
    "print(f\"x and y memory location : {x is not y}\")"
   ]
  },
  {
   "cell_type": "code",
   "execution_count": 13,
   "id": "24d5ef86",
   "metadata": {},
   "outputs": [
    {
     "name": "stdout",
     "output_type": "stream",
     "text": [
      "x and y memory location : True\n"
     ]
    }
   ],
   "source": [
    "x = 6\n",
    "y = 6\n",
    "z = 6\n",
    "print(f\"x and y memory location : {x is y is z}\")"
   ]
  }
 ],
 "metadata": {
  "kernelspec": {
   "display_name": "Python 3",
   "language": "python",
   "name": "python3"
  },
  "language_info": {
   "codemirror_mode": {
    "name": "ipython",
    "version": 3
   },
   "file_extension": ".py",
   "mimetype": "text/x-python",
   "name": "python",
   "nbconvert_exporter": "python",
   "pygments_lexer": "ipython3",
   "version": "3.13.4"
  }
 },
 "nbformat": 4,
 "nbformat_minor": 5
}
