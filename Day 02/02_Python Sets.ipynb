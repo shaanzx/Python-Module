{
 "cells": [
  {
   "cell_type": "code",
   "execution_count": null,
   "id": "769e1a19",
   "metadata": {},
   "outputs": [
    {
     "name": "stdout",
     "output_type": "stream",
     "text": [
      "<class 'set'> {'cricket', 'football', 'tennis'}\n",
      "\n"
     ]
    }
   ],
   "source": [
    "# Python Sets\n",
    "sports = {\"tennis\", \"cricket\", \"football\"}\n",
    "print(type(sports),sports)"
   ]
  },
  {
   "cell_type": "code",
   "execution_count": 12,
   "id": "ee450b2f",
   "metadata": {},
   "outputs": [
    {
     "name": "stdout",
     "output_type": "stream",
     "text": [
      "<class 'set'> {'cricket', 'football', 'tennis'}\n"
     ]
    }
   ],
   "source": [
    "#Can't add duplicate value\n",
    "sports = {\"tennis\", \"cricket\", \"football\", \"tennis\"}\n",
    "print(type(sports),sports)"
   ]
  },
  {
   "cell_type": "code",
   "execution_count": 13,
   "id": "08c9d7c5",
   "metadata": {},
   "outputs": [
    {
     "name": "stdout",
     "output_type": "stream",
     "text": [
      "<class 'set'> {'cricket', 'football', 'tennis'}\n",
      "3\n"
     ]
    }
   ],
   "source": [
    "sports = {\"tennis\", \"cricket\", \"football\"}\n",
    "print(type(sports),sports)\n",
    "print(len(sports))"
   ]
  },
  {
   "cell_type": "code",
   "execution_count": 22,
   "id": "ceecab73",
   "metadata": {},
   "outputs": [
    {
     "name": "stdout",
     "output_type": "stream",
     "text": [
      "{'football', 'cricekt', 'tennis'}\n",
      "{'football', 'cricekt', 'tennis', 'baseball'}\n"
     ]
    }
   ],
   "source": [
    "# Add new value using add()\n",
    "set_1 = {\"tennis\", \"cricekt\", \"football\"}\n",
    "print(set_1)\n",
    "set_1.add(\"baseball\")\n",
    "print(set_1)"
   ]
  },
  {
   "cell_type": "code",
   "execution_count": null,
   "id": "fc007c48",
   "metadata": {},
   "outputs": [
    {
     "name": "stdout",
     "output_type": "stream",
     "text": [
      "{'banana', 'apple', 'mango', 'tennis', 'cricekt', 'football'}\n"
     ]
    }
   ],
   "source": [
    "#Add new list or set using update()\n",
    "set_1 = {\"tennis\", \"cricekt\", \"football\"}\n",
    "set_2 = {\"apple\", \"banana\", \"mango\"}\n",
    "set_1.update(set_2)\n",
    "print(set_1)"
   ]
  },
  {
   "cell_type": "code",
   "execution_count": 32,
   "id": "049ce292",
   "metadata": {},
   "outputs": [
    {
     "name": "stdout",
     "output_type": "stream",
     "text": [
      "{'football', 'black', 'tennis', 'white', 'cricekt', 'red'}\n"
     ]
    }
   ],
   "source": [
    "# Excersice\n",
    "set_1 = {\"tennis\", \"cricekt\", \"football\"}\n",
    "list_1 = [\"white\", \"black\", \"red\"]\n",
    "set_1.update(list_1)\n",
    "print(set_1)"
   ]
  },
  {
   "cell_type": "code",
   "execution_count": 50,
   "id": "2f404c3e",
   "metadata": {},
   "outputs": [
    {
     "name": "stdout",
     "output_type": "stream",
     "text": [
      "Remove after duplicate value: {40, 50, 25, 60, 30}\n",
      "Sorted value: [25, 30, 40, 50, 60]\n"
     ]
    }
   ],
   "source": [
    "# Excersice\n",
    "list_value = [50,60,30,40,50,25,60,30,40]\n",
    "new_value = set(list_value)\n",
    "print(f\"Remove after duplicate value: {new_value}\")\n",
    "list_value = list(new_value)\n",
    "list_value.sort()\n",
    "print(f\"Sorted value: {list_1}\")"
   ]
  }
 ],
 "metadata": {
  "kernelspec": {
   "display_name": "Python 3",
   "language": "python",
   "name": "python3"
  },
  "language_info": {
   "codemirror_mode": {
    "name": "ipython",
    "version": 3
   },
   "file_extension": ".py",
   "mimetype": "text/x-python",
   "name": "python",
   "nbconvert_exporter": "python",
   "pygments_lexer": "ipython3",
   "version": "3.13.4"
  }
 },
 "nbformat": 4,
 "nbformat_minor": 5
}
