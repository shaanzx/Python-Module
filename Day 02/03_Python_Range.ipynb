{
 "cells": [
  {
   "cell_type": "code",
   "execution_count": null,
   "id": "8fd2a978",
   "metadata": {},
   "outputs": [],
   "source": [
    "# Python Range"
   ]
  },
  {
   "cell_type": "code",
   "execution_count": 3,
   "id": "ce24839a",
   "metadata": {},
   "outputs": [
    {
     "name": "stdout",
     "output_type": "stream",
     "text": [
      "range(1, 7)\n",
      "range(1, 12, 2)\n",
      "range(3, 24, 4)\n",
      "<class 'range'>\n"
     ]
    }
   ],
   "source": [
    "x = range(1,7,1)\n",
    "y = range(1,12,2)\n",
    "z = range(3,24,4)\n",
    "\n",
    "print(x)\n",
    "print(y)\n",
    "print(z)\n",
    "print(type(x))"
   ]
  },
  {
   "cell_type": "code",
   "execution_count": 6,
   "id": "748d35c4",
   "metadata": {},
   "outputs": [
    {
     "name": "stdout",
     "output_type": "stream",
     "text": [
      "11 23\n"
     ]
    },
    {
     "ename": "IndexError",
     "evalue": "range object index out of range",
     "output_type": "error",
     "traceback": [
      "\u001b[31m---------------------------------------------------------------------------\u001b[39m",
      "\u001b[31mIndexError\u001b[39m                                Traceback (most recent call last)",
      "\u001b[36mCell\u001b[39m\u001b[36m \u001b[39m\u001b[32mIn[6]\u001b[39m\u001b[32m, line 7\u001b[39m\n\u001b[32m      4\u001b[39m z = \u001b[38;5;28mrange\u001b[39m(\u001b[32m3\u001b[39m,\u001b[32m24\u001b[39m,\u001b[32m4\u001b[39m)\n\u001b[32m      6\u001b[39m \u001b[38;5;28mprint\u001b[39m(z[\u001b[32m2\u001b[39m] ,z[\u001b[32m5\u001b[39m])\n\u001b[32m----> \u001b[39m\u001b[32m7\u001b[39m \u001b[38;5;28mprint\u001b[39m(\u001b[43mz\u001b[49m\u001b[43m[\u001b[49m\u001b[32;43m6\u001b[39;49m\u001b[43m]\u001b[49m)\n",
      "\u001b[31mIndexError\u001b[39m: range object index out of range"
     ]
    }
   ],
   "source": [
    "#Access in indexing\n",
    "x = range(1,7,1)\n",
    "y = range(1,12,2)\n",
    "z = range(3,24,4)\n",
    "\n",
    "print(z[2] ,z[5])\n",
    "print(z[6])"
   ]
  }
 ],
 "metadata": {
  "kernelspec": {
   "display_name": "Python 3",
   "language": "python",
   "name": "python3"
  },
  "language_info": {
   "codemirror_mode": {
    "name": "ipython",
    "version": 3
   },
   "file_extension": ".py",
   "mimetype": "text/x-python",
   "name": "python",
   "nbconvert_exporter": "python",
   "pygments_lexer": "ipython3",
   "version": "3.13.4"
  }
 },
 "nbformat": 4,
 "nbformat_minor": 5
}
