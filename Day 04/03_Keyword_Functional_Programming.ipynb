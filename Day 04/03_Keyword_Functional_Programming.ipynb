{
 "cells": [
  {
   "cell_type": "code",
   "execution_count": 2,
   "id": "90611710",
   "metadata": {},
   "outputs": [
    {
     "name": "stdout",
     "output_type": "stream",
     "text": [
      "a : 10\n",
      "b : 6\n",
      "a : 6\n",
      "b : 10\n"
     ]
    }
   ],
   "source": [
    "def display_number(a,b):\n",
    "    print(f\"a : {a}\")\n",
    "    print(f\"b : {b}\")\n",
    "    \n",
    "display_number( b = 6, a = 10)\n",
    "display_number( a = 6, b = 10)"
   ]
  },
  {
   "cell_type": "code",
   "execution_count": 20,
   "id": "a2c35102",
   "metadata": {},
   "outputs": [
    {
     "name": "stdout",
     "output_type": "stream",
     "text": [
      "Net Salary : 135000.0\n",
      "Net Salary : 124000.0\n"
     ]
    }
   ],
   "source": [
    "# \n",
    "def calc_emp_salary(base_salary, bonus = 0, tax_rate = 0.1):\n",
    "    net_salary = base_salary + bonus\n",
    "    return f\"Net Salary : {net_salary *(1 - tax_rate)}\"\n",
    "    \n",
    "print(calc_emp_salary(150000))\n",
    "print(calc_emp_salary(base_salary= 150000, bonus = 5000, tax_rate = 0.2))\n"
   ]
  }
 ],
 "metadata": {
  "kernelspec": {
   "display_name": "Python 3",
   "language": "python",
   "name": "python3"
  },
  "language_info": {
   "codemirror_mode": {
    "name": "ipython",
    "version": 3
   },
   "file_extension": ".py",
   "mimetype": "text/x-python",
   "name": "python",
   "nbconvert_exporter": "python",
   "pygments_lexer": "ipython3",
   "version": "3.13.4"
  }
 },
 "nbformat": 4,
 "nbformat_minor": 5
}
