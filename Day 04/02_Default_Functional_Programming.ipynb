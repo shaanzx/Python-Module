{
 "cells": [
  {
   "cell_type": "code",
   "execution_count": 2,
   "id": "5ab02a54",
   "metadata": {},
   "outputs": [
    {
     "name": "stdout",
     "output_type": "stream",
     "text": [
      "Output : 15\n",
      "Output : 10\n"
     ]
    }
   ],
   "source": [
    "def add_number(a, b = 10):\n",
    "    return a + b\n",
    "\n",
    "print(f\"Output : {add_number(5)}\")\n",
    "print(f\"Output : {add_number(5, 5)}\")"
   ]
  },
  {
   "cell_type": "code",
   "execution_count": 5,
   "id": "143f43cc",
   "metadata": {},
   "outputs": [
    {
     "name": "stdout",
     "output_type": "stream",
     "text": [
      "9\n",
      "27\n"
     ]
    }
   ],
   "source": [
    "# Excersice\n",
    "\n",
    "def calculate_power(number, expoent = 2):\n",
    "    return number ** expoent\n",
    "\n",
    "print(calculate_power(3))\n",
    "print(calculate_power(3 , 3))"
   ]
  }
 ],
 "metadata": {
  "kernelspec": {
   "display_name": "Python 3",
   "language": "python",
   "name": "python3"
  },
  "language_info": {
   "codemirror_mode": {
    "name": "ipython",
    "version": 3
   },
   "file_extension": ".py",
   "mimetype": "text/x-python",
   "name": "python",
   "nbconvert_exporter": "python",
   "pygments_lexer": "ipython3",
   "version": "3.13.4"
  }
 },
 "nbformat": 4,
 "nbformat_minor": 5
}
