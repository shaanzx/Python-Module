{
 "cells": [
  {
   "cell_type": "code",
   "execution_count": null,
   "id": "9ca73c76",
   "metadata": {},
   "outputs": [
    {
     "name": "stdout",
     "output_type": "stream",
     "text": [
      "15\n"
     ]
    }
   ],
   "source": [
    "def add_number(a , b):\n",
    "    return a + b\n",
    "\n",
    "print(add_number(8 , 7))"
   ]
  },
  {
   "cell_type": "code",
   "execution_count": 16,
   "id": "00b7b373",
   "metadata": {},
   "outputs": [
    {
     "name": "stdout",
     "output_type": "stream",
     "text": [
      "results : 5\n"
     ]
    }
   ],
   "source": [
    "# Excersice\n",
    "\n",
    "def count_even_number(my_list):\n",
    "    count = 0\n",
    "    for i in my_list:\n",
    "        if i % 2 == 0:\n",
    "            count += 1\n",
    "    return f\"results : {count}\"\n",
    "        \n",
    "my_list = [1,2,3,4,5,6,7,8,9,10]\n",
    "\n",
    "print(count_even_number(my_list))\n"
   ]
  },
  {
   "cell_type": "code",
   "execution_count": null,
   "id": "237746af",
   "metadata": {},
   "outputs": [
    {
     "name": "stdout",
     "output_type": "stream",
     "text": [
      "max value is : 30\n"
     ]
    }
   ],
   "source": [
    "# Excersice\n",
    "\n",
    "my_list = [10, 20, 30, 15, 12]\n",
    "\n",
    "def find_max(my_list):\n",
    "    max_value = my_list[0]\n",
    "    for i in my_list:\n",
    "        if i > max_value:\n",
    "            max_value = i\n",
    "    return f\"max value is : {max_value}\"\n",
    "\n",
    "print(find_max(my_list))        "
   ]
  },
  {
   "cell_type": "code",
   "execution_count": 29,
   "id": "f8bc8dd2",
   "metadata": {},
   "outputs": [
    {
     "name": "stdout",
     "output_type": "stream",
     "text": [
      "[10, 20, 30, 35, 40]\n"
     ]
    }
   ],
   "source": [
    "my_list = [10, 20, 30, 30, 35, 40, 10]\n",
    "\n",
    "def remove_duplicate(my_list):\n",
    "    unique_list = []\n",
    "    for i in my_list:\n",
    "        if i not in unique_list:\n",
    "            unique_list.append(i)\n",
    "    return unique_list\n",
    "            \n",
    "print(remove_duplicate(my_list))"
   ]
  },
  {
   "cell_type": "code",
   "execution_count": 49,
   "id": "bdf2fef2",
   "metadata": {},
   "outputs": [
    {
     "name": "stdout",
     "output_type": "stream",
     "text": [
      "[10, 20, 30, 35, 40]\n"
     ]
    }
   ],
   "source": [
    "my_list = [10, 20, 30, 30, 35, 40, 10]\n",
    "\n",
    "def remove_duplicate(my_list):\n",
    "    unique_set = {}\n",
    "    unique_list = []\n",
    "    for i in my_list:\n",
    "        unique_set[i] = i\n",
    "        unique_list = list(unique_set)\n",
    "        \n",
    "    return unique_list\n",
    "\n",
    "\n",
    "print(remove_duplicate(my_list))"
   ]
  },
  {
   "cell_type": "code",
   "execution_count": 64,
   "id": "8bad13f6",
   "metadata": {},
   "outputs": [
    {
     "name": "stdout",
     "output_type": "stream",
     "text": [
      "24\n"
     ]
    }
   ],
   "source": [
    "def factorial(n):\n",
    "    num = 1\n",
    "    if n == 0 :\n",
    "        return num\n",
    "    else:\n",
    "        for i in range(1, n + 1 ):\n",
    "            num *= i\n",
    "    return num\n",
    "\n",
    "print(factorial(4))\n"
   ]
  }
 ],
 "metadata": {
  "kernelspec": {
   "display_name": "Python 3",
   "language": "python",
   "name": "python3"
  },
  "language_info": {
   "codemirror_mode": {
    "name": "ipython",
    "version": 3
   },
   "file_extension": ".py",
   "mimetype": "text/x-python",
   "name": "python",
   "nbconvert_exporter": "python",
   "pygments_lexer": "ipython3",
   "version": "3.13.4"
  }
 },
 "nbformat": 4,
 "nbformat_minor": 5
}
