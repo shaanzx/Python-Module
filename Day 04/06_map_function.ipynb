{
 "cells": [
  {
   "cell_type": "code",
   "execution_count": 7,
   "id": "31ee4219",
   "metadata": {},
   "outputs": [
    {
     "name": "stdout",
     "output_type": "stream",
     "text": [
      "<map object at 0x00000172455E6470>\n",
      "<class 'map'>\n",
      "[36, 25, 9, 4, 81]\n",
      "<class 'list'>\n"
     ]
    }
   ],
   "source": [
    "my_list = [6, 5, 3, 2, 9]\n",
    "\n",
    "def find_sqaure(x):\n",
    "    return x**2\n",
    "\n",
    "new_list = map(find_sqaure,my_list)\n",
    "convert_list = list(map(find_sqaure,my_list))\n",
    "\n",
    "print(new_list)\n",
    "print(type(new_list))\n",
    "print(convert_list)\n",
    "print(type(convert_list))\n"
   ]
  },
  {
   "cell_type": "code",
   "execution_count": null,
   "id": "905cdb15",
   "metadata": {},
   "outputs": [
    {
     "name": "stdout",
     "output_type": "stream",
     "text": [
      "[32.0, 68.0, 98.60000000000001, 212.0, 14.0]\n"
     ]
    }
   ],
   "source": [
    "# Excersice\n",
    "celsius_values = [0, 20, 37, 100, -10]\n",
    "\n",
    "def find_fahrenheit(celsius):\n",
    "    fahrenheit =  celsius * (9/5) + 32\n",
    "    return fahrenheit\n",
    "    \n",
    "def convert_list(celsius_list):\n",
    "    fahrenheit_list = list(map(find_fahrenheit, celsius_list))\n",
    "    return fahrenheit_list\n",
    "\n",
    "print(convert_list(celsius_values))\n",
    "\n",
    "    \n",
    "\n",
    "\n",
    "\n"
   ]
  }
 ],
 "metadata": {
  "kernelspec": {
   "display_name": "Python 3",
   "language": "python",
   "name": "python3"
  },
  "language_info": {
   "codemirror_mode": {
    "name": "ipython",
    "version": 3
   },
   "file_extension": ".py",
   "mimetype": "text/x-python",
   "name": "python",
   "nbconvert_exporter": "python",
   "pygments_lexer": "ipython3",
   "version": "3.13.4"
  }
 },
 "nbformat": 4,
 "nbformat_minor": 5
}
