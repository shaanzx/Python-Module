{
 "cells": [
  {
   "cell_type": "code",
   "execution_count": 1,
   "id": "d542698a",
   "metadata": {},
   "outputs": [
    {
     "name": "stdout",
     "output_type": "stream",
     "text": [
      "{'name': 'Shan', 'age': 25, 'city': 'Badulla'}\n",
      "<class 'dict'>\n"
     ]
    }
   ],
   "source": [
    "def arbitary_keyword_args(**kwargs):\n",
    "    print(kwargs)\n",
    "    print(type(kwargs))\n",
    "\n",
    "arbitary_keyword_args(name = \"Shan\", age = 25, city = \"Badulla\")"
   ]
  },
  {
   "cell_type": "code",
   "execution_count": 5,
   "id": "862fb0f1",
   "metadata": {},
   "outputs": [
    {
     "name": "stdout",
     "output_type": "stream",
     "text": [
      "name : Shan\n",
      "age : 25\n",
      "city : Badulla\n"
     ]
    }
   ],
   "source": [
    "def arbitary_keyword_args(**kwargs):\n",
    "    for key,value in kwargs.items():\n",
    "        print(f\"{key} : {value}\")\n",
    "    \n",
    "\n",
    "arbitary_keyword_args(name = \"Shan\", age = 25, city = \"Badulla\")"
   ]
  },
  {
   "cell_type": "code",
   "execution_count": null,
   "id": "5bece82a",
   "metadata": {},
   "outputs": [
    {
     "name": "stdout",
     "output_type": "stream",
     "text": [
      "S001 : Shan\n",
      "S002 : Kamal\n",
      "S003 : Nimal\n",
      "S004 : Amal\n",
      "S005 : Kamal\n"
     ]
    }
   ],
   "source": [
    "# Excersice\n",
    "def add_students(**kwargs):\n",
    "    dict = {}\n",
    "    for i in kwargs:\n",
    "        dict[i] = kwargs[i]\n",
    "    return dict\n",
    "\n",
    "def display_student(dict):\n",
    "    for key,value in dict.items():\n",
    "        print(f\"{key} : {value}\")\n",
    "\n",
    "students = add_students(S001 = \"Shan\", S002 = \"Kamal\", S003 = \"Nimal\", S004 = \"Amal\", S005 = \"Kamal\")\n",
    " \n",
    "display_student(students)\n",
    "\n",
    "\n"
   ]
  },
  {
   "cell_type": "code",
   "execution_count": null,
   "id": "cb4bbf0c",
   "metadata": {},
   "outputs": [],
   "source": []
  }
 ],
 "metadata": {
  "kernelspec": {
   "display_name": "Python 3",
   "language": "python",
   "name": "python3"
  },
  "language_info": {
   "codemirror_mode": {
    "name": "ipython",
    "version": 3
   },
   "file_extension": ".py",
   "mimetype": "text/x-python",
   "name": "python",
   "nbconvert_exporter": "python",
   "pygments_lexer": "ipython3",
   "version": "3.13.4"
  }
 },
 "nbformat": 4,
 "nbformat_minor": 5
}
