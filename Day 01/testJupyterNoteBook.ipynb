{
 "cells": [
  {
   "cell_type": "code",
   "execution_count": 1,
   "id": "7a772177",
   "metadata": {},
   "outputs": [
    {
     "name": "stdout",
     "output_type": "stream",
     "text": [
      "30\n"
     ]
    }
   ],
   "source": [
    "a = 10\n",
    "b = 20\n",
    "\n",
    "print(a + b)"
   ]
  },
  {
   "cell_type": "code",
   "execution_count": null,
   "id": "c59dc4b6",
   "metadata": {},
   "outputs": [],
   "source": []
  },
  {
   "cell_type": "code",
   "execution_count": 2,
   "id": "0b9378f9",
   "metadata": {},
   "outputs": [
    {
     "name": "stdout",
     "output_type": "stream",
     "text": [
      "1600\n"
     ]
    }
   ],
   "source": [
    "num_1 = 80\n",
    "num_2 = 20\n",
    "\n",
    "print(num_1 * num_2)"
   ]
  },
  {
   "cell_type": "code",
   "execution_count": null,
   "id": "1e139330",
   "metadata": {},
   "outputs": [],
   "source": [
    "# VARIABLE RULES\n",
    "\n",
    "# A variable name must start with a letter or the underscore character\n",
    "# A variable name cannot start with a number\n",
    "# A variable name can only contain alpha-numeric characters and underscores (A-z, 0-9, and _ )\n",
    "# Avoid using Python keywords & Reserved words\n",
    "# Variable names are should be lower case and with words separated by underscores\n",
    "# Varible names are should be descriptive\n",
    "# If you want constant value, use all capitals\n",
    "\n",
    "-name = \"shan\"\n",
    "my_name = \"shan\"\n",
    "2name = \"shan\" # invalid\n",
    "my_2nd_name = \"Lakshan\"\n",
    "for = \"shan\" # invalid\n",
    "PI_VALUE = 3.14\n"
   ]
  },
  {
   "cell_type": "code",
   "execution_count": null,
   "id": "237a1ccb",
   "metadata": {},
   "outputs": [
    {
     "name": "stdout",
     "output_type": "stream",
     "text": [
      "25\n",
      "<class 'int'>\n"
     ]
    }
   ],
   "source": [
    "# DATA TYPES\n",
    "\n",
    "num = 25\n",
    "print(num)\n",
    "print(type(num))\n"
   ]
  },
  {
   "cell_type": "code",
   "execution_count": null,
   "id": "985a4956",
   "metadata": {},
   "outputs": [
    {
     "name": "stdout",
     "output_type": "stream",
     "text": [
      "25.5\n",
      "<class 'float'>\n"
     ]
    }
   ],
   "source": [
    "num_2 = 25.5\n",
    "print(num_2)\n",
    "print(type(num_2))"
   ]
  },
  {
   "cell_type": "code",
   "execution_count": 5,
   "id": "90f4a9d8",
   "metadata": {},
   "outputs": [
    {
     "name": "stdout",
     "output_type": "stream",
     "text": [
      "(10+20j)\n",
      "<class 'complex'>\n"
     ]
    }
   ],
   "source": [
    "a = 10 + 20j\n",
    "print(a)\n",
    "print(type(a))"
   ]
  },
  {
   "cell_type": "code",
   "execution_count": 8,
   "id": "4752d8c8",
   "metadata": {},
   "outputs": [
    {
     "name": "stdout",
     "output_type": "stream",
     "text": [
      "2500000000000.0\n",
      "<class 'float'>\n"
     ]
    }
   ],
   "source": [
    "num_1 = 2.5e12\n",
    "print(num_1)\n",
    "print(type(num_1))"
   ]
  },
  {
   "cell_type": "code",
   "execution_count": null,
   "id": "a41b99a3",
   "metadata": {},
   "outputs": [
    {
     "name": "stdout",
     "output_type": "stream",
     "text": [
      "7 <class 'int'>\n",
      "7.0 <class 'float'>\n",
      "(7+0j) <class 'complex'>\n"
     ]
    }
   ],
   "source": [
    "# CASTING\n",
    "\n",
    "x = 7\n",
    "a= float(x)\n",
    "b = complex(x)\n",
    "print(x, type(x))\n",
    "print(a, type(a))\n",
    "print(b, type(b))"
   ]
  },
  {
   "cell_type": "code",
   "execution_count": 14,
   "id": "7afdcd12",
   "metadata": {},
   "outputs": [
    {
     "name": "stdout",
     "output_type": "stream",
     "text": [
      "20.9 <class 'float'>\n",
      "20 <class 'int'>\n"
     ]
    }
   ],
   "source": [
    "y = 20.9\n",
    "b = int(y)\n",
    "print(y, type(y))\n",
    "print(b, type(b))"
   ]
  },
  {
   "cell_type": "code",
   "execution_count": 39,
   "id": "2db8c2fc",
   "metadata": {},
   "outputs": [
    {
     "name": "stdout",
     "output_type": "stream",
     "text": [
      "[1, 'Shan', True, 10.5]\n",
      "<class 'list'>\n",
      "4\n",
      "Shan\n",
      "10.5\n",
      "True\n",
      "['Shan', True]\n",
      "[1, 'Shan', True]\n",
      "['Shan', True, 10.5]\n",
      "['Shan']\n"
     ]
    }
   ],
   "source": [
    "# ARRAYS\n",
    "# List Collection\n",
    "# Ordered Collection of items\n",
    "my_list = [1, \"Shan\", True, 10.5]\n",
    "print(my_list)\n",
    "print(type(my_list))\n",
    "print(len(my_list))#Length\n",
    "print(my_list[1]) #We can access by index\n",
    "\n",
    "#Negative Index\n",
    "print(my_list[-1])\n",
    "print(my_list[-2])\n",
    "\n",
    "#Subset\n",
    "print(my_list[1:3]) \n",
    "print(my_list[:3]) \n",
    "print(my_list[1:])\n",
    "print(my_list[1:3:2]) \n"
   ]
  },
  {
   "cell_type": "code",
   "execution_count": 45,
   "id": "66852b20",
   "metadata": {},
   "outputs": [
    {
     "name": "stdout",
     "output_type": "stream",
     "text": [
      "[1, 'Shan', True, 10.5, 1, 'Shan', True, 10.5]\n"
     ]
    }
   ],
   "source": [
    "\n",
    "# Python list duplicate value allowed\n",
    "my_list = [1, \"Shan\", True, 10.5, 1, \"Shan\", True, 10.5]\n",
    "print(my_list)\n"
   ]
  },
  {
   "cell_type": "code",
   "execution_count": 43,
   "id": "efe50580",
   "metadata": {},
   "outputs": [
    {
     "name": "stdout",
     "output_type": "stream",
     "text": [
      "[1, 'Lakshan', True, 10.5]\n",
      "[1, 'Kamal', False, 20.5]\n"
     ]
    }
   ],
   "source": [
    "my_list = [1, \"Shan\", True, 10.5]\n",
    "\n",
    "# Python list are mutable\n",
    "# Update\n",
    "my_list[1] = \"Lakshan\"\n",
    "print(my_list)\n",
    "\n",
    "my_list[1:4] = [\"Kamal\", False, 20.5]\n",
    "print(my_list)"
   ]
  },
  {
   "cell_type": "code",
   "execution_count": null,
   "id": "7e104b9a",
   "metadata": {},
   "outputs": [
    {
     "name": "stdout",
     "output_type": "stream",
     "text": [
      "[1, 'Shan', True, 10.5, 'Badulla']\n",
      "[1, 'Shan', 'Jayawardhana', True, 10.5, 'Badulla']\n",
      "[1, 'Shan', 'Jayawardhana', True, 10.5, 'Badulla', 'Badulla', 'Colombo']\n"
     ]
    }
   ],
   "source": [
    "my_list = [1, \"Shan\", True, 10.5]\n",
    "\n",
    "# Python list are mutable\n",
    "# Add new value add the end of the list = Append\n",
    "my_list.append(\"Badulla\")\n",
    "print(my_list)\n",
    "\n",
    "# Insert new value at specific index \n",
    "my_list.insert (2, \"Jayawardhana\")\n",
    "print(my_list)\n",
    "\n"
   ]
  },
  {
   "cell_type": "code",
   "execution_count": null,
   "id": "c54f0480",
   "metadata": {},
   "outputs": [
    {
     "name": "stdout",
     "output_type": "stream",
     "text": [
      "[1, 2, 3, 4, 5, 6, 7, 8, 9, 10]\n"
     ]
    }
   ],
   "source": [
    "# Add List to List\n",
    "my_list = [1,2,3,4,5]\n",
    "my_list_2 = [6,7,8,9,10]\n",
    "my_list.extend(my_list_2)\n",
    "print(my_list)"
   ]
  },
  {
   "cell_type": "code",
   "execution_count": 77,
   "id": "5fd713dc",
   "metadata": {},
   "outputs": [
    {
     "name": "stdout",
     "output_type": "stream",
     "text": [
      "[1, 'Cat', 5, 'Apple', 28]\n",
      "[1, 5, 'Apple', 28]\n",
      "[1, 'Apple', 28]\n"
     ]
    }
   ],
   "source": [
    "my_list = [1, \"Cat\", 5, \"Apple\", 28]\n",
    "\n",
    "# Python list are mutable\n",
    "# Delete\n",
    "print(my_list)\n",
    "my_list.remove(\"Cat\")\n",
    "print(my_list)\n",
    "my_list.pop(1)#Using Index\n",
    "print(my_list)"
   ]
  },
  {
   "cell_type": "code",
   "execution_count": 78,
   "id": "114f11ad",
   "metadata": {},
   "outputs": [
    {
     "name": "stdout",
     "output_type": "stream",
     "text": [
      "['Farah', 'Binu', 'Eshan', 'Chamara', 'Dilani']\n"
     ]
    }
   ],
   "source": [
    "students = [\"Amal\", \"Binu\", \"Chamara\"]\n",
    "students.append(\"Dilani\")\n",
    "students.insert(2, \"Eshan\")\n",
    "students.remove(\"Amal\")\n",
    "students.insert(0, \"Farah\")\n",
    "print(students)"
   ]
  }
 ],
 "metadata": {
  "kernelspec": {
   "display_name": "Python 3",
   "language": "python",
   "name": "python3"
  },
  "language_info": {
   "codemirror_mode": {
    "name": "ipython",
    "version": 3
   },
   "file_extension": ".py",
   "mimetype": "text/x-python",
   "name": "python",
   "nbconvert_exporter": "python",
   "pygments_lexer": "ipython3",
   "version": "3.13.4"
  }
 },
 "nbformat": 4,
 "nbformat_minor": 5
}
