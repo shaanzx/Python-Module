{
 "cells": [
  {
   "cell_type": "code",
   "execution_count": null,
   "id": "c5314714",
   "metadata": {},
   "outputs": [
    {
     "name": "stdout",
     "output_type": "stream",
     "text": [
      "Content-Type: application/json; charset=utf-8\n",
      "{'latitude': 6.125, 'longitude': 80.125, 'generationtime_ms': 0.026941299438476562, 'utc_offset_seconds': 0, 'timezone': 'GMT', 'timezone_abbreviation': 'GMT', 'elevation': 6.0, 'hourly_units': {'time': 'iso8601', 'temperature_2m': '°C'}, 'hourly': {'time': ['2025-07-23T00:00', '2025-07-23T01:00', '2025-07-23T02:00', '2025-07-23T03:00', '2025-07-23T04:00', '2025-07-23T05:00', '2025-07-23T06:00', '2025-07-23T07:00', '2025-07-23T08:00', '2025-07-23T09:00', '2025-07-23T10:00', '2025-07-23T11:00', '2025-07-23T12:00', '2025-07-23T13:00', '2025-07-23T14:00', '2025-07-23T15:00', '2025-07-23T16:00', '2025-07-23T17:00', '2025-07-23T18:00', '2025-07-23T19:00', '2025-07-23T20:00', '2025-07-23T21:00', '2025-07-23T22:00', '2025-07-23T23:00', '2025-07-24T00:00', '2025-07-24T01:00', '2025-07-24T02:00', '2025-07-24T03:00', '2025-07-24T04:00', '2025-07-24T05:00', '2025-07-24T06:00', '2025-07-24T07:00', '2025-07-24T08:00', '2025-07-24T09:00', '2025-07-24T10:00', '2025-07-24T11:00', '2025-07-24T12:00', '2025-07-24T13:00', '2025-07-24T14:00', '2025-07-24T15:00', '2025-07-24T16:00', '2025-07-24T17:00', '2025-07-24T18:00', '2025-07-24T19:00', '2025-07-24T20:00', '2025-07-24T21:00', '2025-07-24T22:00', '2025-07-24T23:00', '2025-07-25T00:00', '2025-07-25T01:00', '2025-07-25T02:00', '2025-07-25T03:00', '2025-07-25T04:00', '2025-07-25T05:00', '2025-07-25T06:00', '2025-07-25T07:00', '2025-07-25T08:00', '2025-07-25T09:00', '2025-07-25T10:00', '2025-07-25T11:00', '2025-07-25T12:00', '2025-07-25T13:00', '2025-07-25T14:00', '2025-07-25T15:00', '2025-07-25T16:00', '2025-07-25T17:00', '2025-07-25T18:00', '2025-07-25T19:00', '2025-07-25T20:00', '2025-07-25T21:00', '2025-07-25T22:00', '2025-07-25T23:00', '2025-07-26T00:00', '2025-07-26T01:00', '2025-07-26T02:00', '2025-07-26T03:00', '2025-07-26T04:00', '2025-07-26T05:00', '2025-07-26T06:00', '2025-07-26T07:00', '2025-07-26T08:00', '2025-07-26T09:00', '2025-07-26T10:00', '2025-07-26T11:00', '2025-07-26T12:00', '2025-07-26T13:00', '2025-07-26T14:00', '2025-07-26T15:00', '2025-07-26T16:00', '2025-07-26T17:00', '2025-07-26T18:00', '2025-07-26T19:00', '2025-07-26T20:00', '2025-07-26T21:00', '2025-07-26T22:00', '2025-07-26T23:00', '2025-07-27T00:00', '2025-07-27T01:00', '2025-07-27T02:00', '2025-07-27T03:00', '2025-07-27T04:00', '2025-07-27T05:00', '2025-07-27T06:00', '2025-07-27T07:00', '2025-07-27T08:00', '2025-07-27T09:00', '2025-07-27T10:00', '2025-07-27T11:00', '2025-07-27T12:00', '2025-07-27T13:00', '2025-07-27T14:00', '2025-07-27T15:00', '2025-07-27T16:00', '2025-07-27T17:00', '2025-07-27T18:00', '2025-07-27T19:00', '2025-07-27T20:00', '2025-07-27T21:00', '2025-07-27T22:00', '2025-07-27T23:00', '2025-07-28T00:00', '2025-07-28T01:00', '2025-07-28T02:00', '2025-07-28T03:00', '2025-07-28T04:00', '2025-07-28T05:00', '2025-07-28T06:00', '2025-07-28T07:00', '2025-07-28T08:00', '2025-07-28T09:00', '2025-07-28T10:00', '2025-07-28T11:00', '2025-07-28T12:00', '2025-07-28T13:00', '2025-07-28T14:00', '2025-07-28T15:00', '2025-07-28T16:00', '2025-07-28T17:00', '2025-07-28T18:00', '2025-07-28T19:00', '2025-07-28T20:00', '2025-07-28T21:00', '2025-07-28T22:00', '2025-07-28T23:00', '2025-07-29T00:00', '2025-07-29T01:00', '2025-07-29T02:00', '2025-07-29T03:00', '2025-07-29T04:00', '2025-07-29T05:00', '2025-07-29T06:00', '2025-07-29T07:00', '2025-07-29T08:00', '2025-07-29T09:00', '2025-07-29T10:00', '2025-07-29T11:00', '2025-07-29T12:00', '2025-07-29T13:00', '2025-07-29T14:00', '2025-07-29T15:00', '2025-07-29T16:00', '2025-07-29T17:00', '2025-07-29T18:00', '2025-07-29T19:00', '2025-07-29T20:00', '2025-07-29T21:00', '2025-07-29T22:00', '2025-07-29T23:00'], 'temperature_2m': [27.0, 27.1, 27.3, 27.3, 27.3, 27.3, 27.3, 27.3, 27.4, 27.4, 27.4, 27.4, 27.5, 27.7, 27.6, 27.5, 27.5, 27.4, 27.4, 27.2, 27.2, 27.3, 27.3, 27.2, 27.3, 27.3, 27.0, 26.9, 27.0, 27.2, 27.2, 27.3, 27.4, 27.5, 27.6, 27.7, 27.7, 27.7, 27.6, 27.7, 27.6, 27.5, 27.4, 27.3, 27.1, 27.0, 26.9, 26.9, 26.8, 26.9, 27.0, 27.2, 27.5, 27.4, 27.4, 27.4, 27.4, 27.4, 27.3, 27.4, 27.4, 27.6, 27.6, 27.5, 27.5, 27.4, 27.3, 27.1, 26.9, 26.9, 26.8, 26.8, 26.7, 26.8, 26.8, 26.8, 26.8, 26.8, 26.9, 26.9, 27.0, 27.0, 27.0, 27.0, 27.0, 27.0, 27.1, 27.2, 27.1, 27.0, 26.9, 26.8, 26.6, 26.5, 26.4, 26.4, 26.4, 26.6, 26.8, 27.0, 27.1, 27.0, 27.0, 27.0, 27.0, 27.0, 27.1, 27.2, 27.3, 27.4, 27.4, 27.4, 27.4, 27.3, 27.2, 27.0, 26.8, 26.7, 26.8, 26.9, 27.0, 27.1, 27.1, 27.2, 27.2, 27.1, 27.1, 27.1, 27.1, 27.1, 27.1, 27.2, 27.2, 27.3, 27.5, 27.6, 27.5, 27.4, 27.4, 27.4, 27.4, 27.4, 27.5, 27.5, 27.6, 27.6, 27.5, 27.5, 27.6, 27.6, 27.6, 27.6, 27.5, 27.5, 27.5, 27.5, 27.6, 27.7, 27.8, 27.9, 27.9, 27.9, 27.8, 27.7, 27.6, 27.5, 27.5, 27.4]}}\n"
     ]
    }
   ],
   "source": [
    "import requests\n",
    "\n",
    "url = 'https://api.open-meteo.com/v1/forecast'\n",
    "\n",
    "params = {\n",
    "    \"latitude\": 6.0329,\n",
    "    \"longitude\": 80.2168,\n",
    "    \"curent_info\": \"temperature_2m\"\n",
    "}\n",
    "\n",
    "response = requests.get(url, params=params)\n",
    "if response.status_code == 200:\n",
    "    content_type = response.headers.get('content-type')\n",
    "    print(f\"Content-Type: {content_type}\")\n",
    "    data = response.json()\n",
    "    print(data)\n",
    "\n",
    "else:\n",
    "    print(f\"Failed to fetch data. Status code: {response.status_code}\")\n",
    "\n"
   ]
  },
  {
   "cell_type": "code",
   "execution_count": null,
   "id": "8aebac0c",
   "metadata": {},
   "outputs": [
    {
     "name": "stdout",
     "output_type": "stream",
     "text": [
      "{'latitude': 6.125, 'longitude': 80.125, 'generationtime_ms': 0.0008344650268554688, 'utc_offset_seconds': 0, 'timezone': 'GMT', 'timezone_abbreviation': 'GMT', 'elevation': 6.0}\n"
     ]
    }
   ],
   "source": [
    "import requests\n",
    "\n",
    "def fetchWeather (latitute, longitute, current_info): \n",
    "    \n",
    "    params = {\n",
    "    \"latitude\": latitute,\n",
    "    \"longitude\": longitute,\n",
    "    \"curent_info\": current_info\n",
    "    }\n",
    "    \n",
    "\n",
    "    response = requests.get(url, params=params)\n",
    "    if response.status_code == 200:\n",
    "        return response.json()\n",
    "\n",
    "    else:\n",
    "        print(f\"Failed to fetch data. Status code: {response.status_code}\")\n",
    "        return None\n",
    "    \n",
    "weather_data = fetchWeather(6.0329, 80.2168, \"temperature_2m\")\n",
    "print(weather_data)"
   ]
  },
  {
   "cell_type": "code",
   "execution_count": null,
   "id": "a8f0fb15",
   "metadata": {},
   "outputs": [
    {
     "name": "stdout",
     "output_type": "stream",
     "text": [
      "Full response: {'latitude': 6.125, 'longitude': 80.125, 'generationtime_ms': 0.0324249267578125, 'utc_offset_seconds': 0, 'timezone': 'GMT', 'timezone_abbreviation': 'GMT', 'elevation': 6.0, 'current_units': {'time': 'iso8601', 'interval': 'seconds', 'temperature_2m': '°C', 'wind_speed_10m': 'km/h'}, 'current': {'time': '2025-07-23T09:45', 'interval': 900, 'temperature_2m': 27.1, 'wind_speed_10m': 21.4}}\n",
      "Filtered data: (27.1, 21.4)\n"
     ]
    }
   ],
   "source": [
    "import requests\n",
    "\n",
    "# Define the API URL\n",
    "url = \"https://api.open-meteo.com/v1/forecast\"\n",
    "\n",
    "def fetchWeather(latitude, longitude, current_info):\n",
    "    params = {\n",
    "        \"latitude\": latitude,\n",
    "        \"longitude\": longitude,\n",
    "        \"current\": current_info\n",
    "    }\n",
    "\n",
    "    response = requests.get(url, params=params)\n",
    "\n",
    "    if response.status_code == 200:\n",
    "        return response.json()\n",
    "    else:\n",
    "        print(f\"Failed to fetch data. Status code: {response.status_code}\")\n",
    "        return None\n",
    "\n",
    "\n",
    "def parsing_weather_data(data):\n",
    "    if data is None or 'current' not in data:\n",
    "        return None\n",
    "    else:\n",
    "        current_weather = data['current']['temperature_2m']\n",
    "        wind_speed = data['current']['wind_speed_10m']\n",
    "        return {\n",
    "            \"temperature\": current_weather,\n",
    "            \"wind_speed\": wind_speed\n",
    "        }\n",
    "\n",
    "\n",
    "weather_data = fetchWeather(6.0329, 80.2168, \"temperature_2m,wind_speed_10m\")\n",
    "print(f\"Full response: {weather_data}\")\n",
    "\n",
    "filter_data = parsing_weather_data(weather_data)\n",
    "print(f\"Filtered data: {filter_data}\")\n"
   ]
  }
 ],
 "metadata": {
  "kernelspec": {
   "display_name": "Python 3",
   "language": "python",
   "name": "python3"
  },
  "language_info": {
   "codemirror_mode": {
    "name": "ipython",
    "version": 3
   },
   "file_extension": ".py",
   "mimetype": "text/x-python",
   "name": "python",
   "nbconvert_exporter": "python",
   "pygments_lexer": "ipython3",
   "version": "3.13.4"
  }
 },
 "nbformat": 4,
 "nbformat_minor": 5
}
