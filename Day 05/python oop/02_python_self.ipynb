{
 "cells": [
  {
   "cell_type": "code",
   "execution_count": 1,
   "id": "08309cc3",
   "metadata": {},
   "outputs": [
    {
     "name": "stdout",
     "output_type": "stream",
     "text": [
      "car has 4 wheels\n",
      "This car drive to beach on 4 wheels\n"
     ]
    }
   ],
   "source": [
    "# Python self\n",
    "class Car:\n",
    "    wheels = 4\n",
    "    \n",
    "    def display_info(self):\n",
    "        print(f\"car has {self.wheels} wheels\")\n",
    "        \n",
    "    def drive_to(self,destination):\n",
    "        print(f\"This car drive to {destination} on {self.wheels} wheels\")\n",
    "\n",
    "car_1 = Car()\n",
    "car_1.display_info()\n",
    "car_1.drive_to(\"beach\")"
   ]
  }
 ],
 "metadata": {
  "kernelspec": {
   "display_name": "Python 3",
   "language": "python",
   "name": "python3"
  },
  "language_info": {
   "codemirror_mode": {
    "name": "ipython",
    "version": 3
   },
   "file_extension": ".py",
   "mimetype": "text/x-python",
   "name": "python",
   "nbconvert_exporter": "python",
   "pygments_lexer": "ipython3",
   "version": "3.13.4"
  }
 },
 "nbformat": 4,
 "nbformat_minor": 5
}
