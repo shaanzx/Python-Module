{
 "cells": [
  {
   "cell_type": "code",
   "execution_count": 1,
   "id": "4eb31a4e",
   "metadata": {},
   "outputs": [
    {
     "name": "stdout",
     "output_type": "stream",
     "text": [
      "Constructir has been called!\n",
      "This Civic is Red and it has 4.\n"
     ]
    }
   ],
   "source": [
    "# Python _init_() \n",
    "\n",
    "class Car:\n",
    "    wheels = 4\n",
    "    \n",
    "    def __init__(self, brand, color):\n",
    "        print(\"Constructir has been called!\")\n",
    "        self.brand = brand\n",
    "        self.color = color\n",
    "        \n",
    "car_1 = Car(\"Civic\" , \"Red\")\n",
    "print(f\"This {car_1.brand} is {car_1.color} and it has {car_1.wheels}.\")"
   ]
  },
  {
   "cell_type": "code",
   "execution_count": 2,
   "id": "03ac0aef",
   "metadata": {},
   "outputs": [
    {
     "name": "stdout",
     "output_type": "stream",
     "text": [
      "Red Civic has 4 wheels\n",
      "Red Civic drives to beach\n"
     ]
    }
   ],
   "source": [
    "# Python init\n",
    "class Car:\n",
    "    wheels = 4\n",
    "    \n",
    "    def __init__(self, brand, color):\n",
    "        self.brand = brand\n",
    "        self.color = color\n",
    "        \n",
    "    def display_info(self):\n",
    "        print(f\"{self.color} {self.brand} has {self.wheels} wheels\")\n",
    "        \n",
    "    def drive_to(self,destination):\n",
    "        print(f\"{self.color} {self.brand} drives to {destination}\")\n",
    "\n",
    "car_1 = Car(\"Civic\" , \"Red\")\n",
    "car_1.display_info()\n",
    "car_1.drive_to(\"beach\")\n"
   ]
  }
 ],
 "metadata": {
  "kernelspec": {
   "display_name": "Python 3",
   "language": "python",
   "name": "python3"
  },
  "language_info": {
   "codemirror_mode": {
    "name": "ipython",
    "version": 3
   },
   "file_extension": ".py",
   "mimetype": "text/x-python",
   "name": "python",
   "nbconvert_exporter": "python",
   "pygments_lexer": "ipython3",
   "version": "3.13.4"
  }
 },
 "nbformat": 4,
 "nbformat_minor": 5
}
