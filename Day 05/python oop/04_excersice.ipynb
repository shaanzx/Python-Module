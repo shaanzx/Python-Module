{
 "cells": [
  {
   "cell_type": "code",
   "execution_count": 5,
   "id": "b7aefcff",
   "metadata": {},
   "outputs": [
    {
     "name": "stdout",
     "output_type": "stream",
     "text": [
      "The area is 200 and the perimeter is 60\n"
     ]
    }
   ],
   "source": [
    "class Rectangle:\n",
    "    def __init__(self, length, width):\n",
    "        self.length = length\n",
    "        self.width = width\n",
    "    \n",
    "    def area(self):\n",
    "        rectangle = self.width * self.length\n",
    "        return rectangle\n",
    "\n",
    "    def get_perimeter(self):\n",
    "        rectangle = 2 * (self.width + self.length)\n",
    "        return rectangle\n",
    "    \n",
    "    def describe(self):\n",
    "        print(f\"The area is {self.area()} and the perimeter is {self.get_perimeter()}\")\n",
    "        \n",
    "rectangle = Rectangle(10, 20)\n",
    "rectangle.describe()"
   ]
  }
 ],
 "metadata": {
  "kernelspec": {
   "display_name": "Python 3",
   "language": "python",
   "name": "python3"
  },
  "language_info": {
   "codemirror_mode": {
    "name": "ipython",
    "version": 3
   },
   "file_extension": ".py",
   "mimetype": "text/x-python",
   "name": "python",
   "nbconvert_exporter": "python",
   "pygments_lexer": "ipython3",
   "version": "3.13.4"
  }
 },
 "nbformat": 4,
 "nbformat_minor": 5
}
