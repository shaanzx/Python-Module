{
 "cells": [
  {
   "cell_type": "code",
   "execution_count": 4,
   "id": "2a32ef83",
   "metadata": {},
   "outputs": [
    {
     "name": "stdout",
     "output_type": "stream",
     "text": [
      "Output : True\n"
     ]
    }
   ],
   "source": [
    "x = 10\n",
    "print(f\"Output : {isinstance(x,int)}\")"
   ]
  },
  {
   "cell_type": "code",
   "execution_count": 11,
   "id": "cb075ad5",
   "metadata": {},
   "outputs": [
    {
     "name": "stdout",
     "output_type": "stream",
     "text": [
      "Output a is: False\n",
      "Output 1 is: True\n",
      "Output 10.5 is: False\n",
      "Output -5 is: True\n",
      "Output 2 is: True\n"
     ]
    }
   ],
   "source": [
    "my_list  = ['a', 1 ,10.5 ,-5, 2]\n",
    "for i in my_list:\n",
    "    print(f\"Output {i} is: {isinstance(i,int)}\")"
   ]
  },
  {
   "cell_type": "code",
   "execution_count": 12,
   "id": "90d7ac83",
   "metadata": {},
   "outputs": [
    {
     "name": "stdout",
     "output_type": "stream",
     "text": [
      "Output a is: False\n",
      "Output 1 is: True\n",
      "Output 10.5 is: True\n",
      "Output -5 is: True\n",
      "Output 2 is: True\n"
     ]
    }
   ],
   "source": [
    "my_list  = ['a', 1 ,10.5 ,-5, 2]\n",
    "for i in my_list:\n",
    "    print(f\"Output {i} is: {isinstance(i,(int,float))}\")"
   ]
  }
 ],
 "metadata": {
  "kernelspec": {
   "display_name": "Python 3",
   "language": "python",
   "name": "python3"
  },
  "language_info": {
   "codemirror_mode": {
    "name": "ipython",
    "version": 3
   },
   "file_extension": ".py",
   "mimetype": "text/x-python",
   "name": "python",
   "nbconvert_exporter": "python",
   "pygments_lexer": "ipython3",
   "version": "3.13.4"
  }
 },
 "nbformat": 4,
 "nbformat_minor": 5
}
